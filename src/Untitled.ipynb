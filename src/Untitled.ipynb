{
 "cells": [
  {
   "cell_type": "code",
   "execution_count": 1,
   "metadata": {
    "collapsed": true
   },
   "outputs": [],
   "source": [
    "import re"
   ]
  },
  {
   "cell_type": "code",
   "execution_count": 8,
   "metadata": {},
   "outputs": [],
   "source": [
    "result = '[<div class=data-line>\\n<div>EPS of $0.95 <span class=green>beats by $0.19</span></div>\\n<div>Revenue of $2.2B (- 2.7% Y/Y) <span class=red> misses by $-10M</span></div>\\n</div>]'.split()"
   ]
  },
  {
   "cell_type": "code",
   "execution_count": 9,
   "metadata": {},
   "outputs": [
    {
     "name": "stdout",
     "output_type": "stream",
     "text": [
      "['[<div', 'class=data-line>', '<div>EPS', 'of', '$0.95', '<span', 'class=green>beats', 'by', '$0.19</span></div>', '<div>Revenue', 'of', '$2.2B', '(-', '2.7%', 'Y/Y)', '<span', 'class=red>', 'misses', 'by', '$-10M</span></div>', '</div>]']\n"
     ]
    }
   ],
   "source": [
    "print result"
   ]
  },
  {
   "cell_type": "code",
   "execution_count": 10,
   "metadata": {},
   "outputs": [
    {
     "name": "stdout",
     "output_type": "stream",
     "text": [
      "[<div\n",
      "class=data-line>\n",
      "<div>EPS\n",
      "of\n",
      "$0.95\n",
      "<span\n",
      "class=green>beats\n",
      "by\n",
      "$0.19</span></div>\n",
      "<div>Revenue\n",
      "of\n",
      "$2.2B\n",
      "(-\n",
      "2.7%\n",
      "Y/Y)\n",
      "<span\n",
      "class=red>\n",
      "misses\n",
      "by\n",
      "$-10M</span></div>\n",
      "</div>]\n"
     ]
    }
   ],
   "source": [
    "for i in result:\n",
    "    print i"
   ]
  },
  {
   "cell_type": "code",
   "execution_count": 12,
   "metadata": {},
   "outputs": [
    {
     "data": {
      "text/plain": [
       "'misses'"
      ]
     },
     "execution_count": 12,
     "metadata": {},
     "output_type": "execute_result"
    }
   ],
   "source": [
    "result[-4]"
   ]
  },
  {
   "cell_type": "code",
   "execution_count": null,
   "metadata": {
    "collapsed": true
   },
   "outputs": [],
   "source": []
  }
 ],
 "metadata": {
  "kernelspec": {
   "display_name": "Python 2",
   "language": "python",
   "name": "python2"
  },
  "language_info": {
   "codemirror_mode": {
    "name": "ipython",
    "version": 2
   },
   "file_extension": ".py",
   "mimetype": "text/x-python",
   "name": "python",
   "nbconvert_exporter": "python",
   "pygments_lexer": "ipython2",
   "version": "2.7.12"
  }
 },
 "nbformat": 4,
 "nbformat_minor": 2
}
