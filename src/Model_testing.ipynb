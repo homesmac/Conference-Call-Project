{
 "cells": [
  {
   "cell_type": "code",
   "execution_count": 129,
   "metadata": {},
   "outputs": [],
   "source": [
    "import pandas as pd\n",
    "import matplotlib.pyplot as plt\n",
    "import numpy as np\n",
    "import re"
   ]
  },
  {
   "cell_type": "code",
   "execution_count": 130,
   "metadata": {
    "collapsed": true
   },
   "outputs": [],
   "source": [
    "df = pd.read_csv('./data/call_links.csv', delimiter=',')"
   ]
  },
  {
   "cell_type": "code",
   "execution_count": 131,
   "metadata": {
    "collapsed": true
   },
   "outputs": [],
   "source": [
    "df2 = pd.read_csv('./data/labels.txt', delimiter='\\n')"
   ]
  },
  {
   "cell_type": "code",
   "execution_count": 132,
   "metadata": {
    "collapsed": true
   },
   "outputs": [],
   "source": [
    "df3 = pd.read_csv('./data/train.txt', delimiter='\\n')"
   ]
  },
  {
   "cell_type": "code",
   "execution_count": 133,
   "metadata": {
    "collapsed": true
   },
   "outputs": [],
   "source": [
    "df = pd.concat([df,df2],axis=1)"
   ]
  },
  {
   "cell_type": "code",
   "execution_count": 134,
   "metadata": {
    "collapsed": true
   },
   "outputs": [],
   "source": [
    "df = pd.concat([df,df3],axis=1)"
   ]
  },
  {
   "cell_type": "code",
   "execution_count": 135,
   "metadata": {},
   "outputs": [
    {
     "data": {
      "text/html": [
       "<div>\n",
       "<style>\n",
       "    .dataframe thead tr:only-child th {\n",
       "        text-align: right;\n",
       "    }\n",
       "\n",
       "    .dataframe thead th {\n",
       "        text-align: left;\n",
       "    }\n",
       "\n",
       "    .dataframe tbody tr th {\n",
       "        vertical-align: top;\n",
       "    }\n",
       "</style>\n",
       "<table border=\"1\" class=\"dataframe\">\n",
       "  <thead>\n",
       "    <tr style=\"text-align: right;\">\n",
       "      <th></th>\n",
       "      <th>Ticker</th>\n",
       "      <th>Link</th>\n",
       "      <th>Labels</th>\n",
       "      <th>Train</th>\n",
       "    </tr>\n",
       "  </thead>\n",
       "  <tbody>\n",
       "    <tr>\n",
       "      <th>0</th>\n",
       "      <td>MMM</td>\n",
       "      <td>https://seekingalpha.com/article/4065316-3m-mm...</td>\n",
       "      <td>[&lt;div class=\"data-line\"&gt;\\n&lt;div&gt;EPS of $2.16 &lt;s...</td>\n",
       "      <td>Q1 2017 Earnings Call,April 25, 2017 9:00 am E...</td>\n",
       "    </tr>\n",
       "    <tr>\n",
       "      <th>1</th>\n",
       "      <td>MMM</td>\n",
       "      <td>https://seekingalpha.com/article/4039094-3ms-m...</td>\n",
       "      <td>[&lt;div class=\"data-line\"&gt;\\n&lt;div&gt;EPS of $1.88 &lt;s...</td>\n",
       "      <td>Q4 2016 Earnings Conference Call,January 24, 2...</td>\n",
       "    </tr>\n",
       "    <tr>\n",
       "      <th>2</th>\n",
       "      <td>MMM</td>\n",
       "      <td>https://seekingalpha.com/article/4014723-3m-mm...</td>\n",
       "      <td>[&lt;div class=\"data-line\"&gt;\\n&lt;div&gt;EPS of $2.15 &lt;s...</td>\n",
       "      <td>Q3 2016 Earnings Call,October 25, 2016 9:00 am...</td>\n",
       "    </tr>\n",
       "    <tr>\n",
       "      <th>3</th>\n",
       "      <td>MMM</td>\n",
       "      <td>https://seekingalpha.com/article/3991631-3m-mm...</td>\n",
       "      <td>[&lt;div class=\"data-line\"&gt;\\n&lt;div&gt;EPS of $2.08 &lt;s...</td>\n",
       "      <td>Q2 2016 Earnings Call,July 26, 2016 9:00 am ET...</td>\n",
       "    </tr>\n",
       "    <tr>\n",
       "      <th>4</th>\n",
       "      <td>MMM</td>\n",
       "      <td>https://seekingalpha.com/article/3968135-3ms-m...</td>\n",
       "      <td>[&lt;div class=\"data-line\"&gt;\\n&lt;div&gt;EPS of $2.05 &lt;s...</td>\n",
       "      <td>Q1 2016 Earnings Conference Call,April 26, 201...</td>\n",
       "    </tr>\n",
       "  </tbody>\n",
       "</table>\n",
       "</div>"
      ],
      "text/plain": [
       "  Ticker                                               Link  \\\n",
       "0    MMM  https://seekingalpha.com/article/4065316-3m-mm...   \n",
       "1    MMM  https://seekingalpha.com/article/4039094-3ms-m...   \n",
       "2    MMM  https://seekingalpha.com/article/4014723-3m-mm...   \n",
       "3    MMM  https://seekingalpha.com/article/3991631-3m-mm...   \n",
       "4    MMM  https://seekingalpha.com/article/3968135-3ms-m...   \n",
       "\n",
       "                                              Labels  \\\n",
       "0  [<div class=\"data-line\">\\n<div>EPS of $2.16 <s...   \n",
       "1  [<div class=\"data-line\">\\n<div>EPS of $1.88 <s...   \n",
       "2  [<div class=\"data-line\">\\n<div>EPS of $2.15 <s...   \n",
       "3  [<div class=\"data-line\">\\n<div>EPS of $2.08 <s...   \n",
       "4  [<div class=\"data-line\">\\n<div>EPS of $2.05 <s...   \n",
       "\n",
       "                                               Train  \n",
       "0  Q1 2017 Earnings Call,April 25, 2017 9:00 am E...  \n",
       "1  Q4 2016 Earnings Conference Call,January 24, 2...  \n",
       "2  Q3 2016 Earnings Call,October 25, 2016 9:00 am...  \n",
       "3  Q2 2016 Earnings Call,July 26, 2016 9:00 am ET...  \n",
       "4  Q1 2016 Earnings Conference Call,April 26, 201...  "
      ]
     },
     "execution_count": 135,
     "metadata": {},
     "output_type": "execute_result"
    }
   ],
   "source": [
    "df.head()"
   ]
  },
  {
   "cell_type": "code",
   "execution_count": 136,
   "metadata": {},
   "outputs": [
    {
     "name": "stdout",
     "output_type": "stream",
     "text": [
      "Q4 2015 Earnings Call,February 11, 2016 4:30 pm ET,Executives,Amrita Ahuja - Senior Vice President-Investor Relations,Robert A. Kotick - President, Chief Executive Officer & Director,Thomas Tippl - Chief Operating Officer,Dennis M. Durkin - Chief Financial Officer,Eric Hirshberg - President and Chief Executive Officer, Activision Publishing, Inc.,Michael Morhaime - Chief Executive Officer of Blizzard Entertainment, Activision Blizzard, Inc.,Analysts,Douglas L. Creutz - Cowen and Company,Brian J. Pitz - Jefferies LLC,Neil A. Doshi - Mizuho Securities USA, Inc.,Arvind Bhatia - Sterne Agee CRT,Colin A. Sebastian - Robert W. Baird & Co., Inc. (Broker),Eric O. Handler - MKM Partners LLC,Chris Merwin - Barclays Capital, Inc.,Operator,Good day, and welcome to the Activision Blizzard Fourth Quarter 2015 Earnings Call. Today's conference is being recorded.,At this time for opening remarks and introductions, I would like to turn today's call over to Amrita Ahuja. Please go ahead.,Amrita Ahuja - Senior Vice President-Investor Relations,Good afternoon and thank you for joining us today for Activision Blizzard's fourth quarter 2015 conference call. Speaking on the call today will be Bobby Kotick, CEO of Activision Blizzard; Thomas Tippl, COO of Activision Blizzard; Dennis Durkin, CFO of Activison Blizzard; Eric Hirshberg, CEO of Activision; and Mike Morhaime, CEO of Blizzard.,I would like to remind everyone that during this call, we will be making statements that are not historical facts. These are forward-looking statements that are based on current expectations and assumptions that are subject to risks and uncertainties. A number of important factors could cause the company's actual future results and other future circumstances to differ materially from those expressed in any forward-looking statements, including the factors discussed in the risk factor section of our SEC filings, including our 2015 Annual Report on Form 10-K and subsequent Quarterly Reports on Form 10-Q, which are on file with the SEC, and those indicated on the slide that is showing.,The forward-looking statements in this presentation are based on information available to the company as of the date of this presentation, including information provided to the company by King Digital Entertainment and our preliminary assessment on the impact to our financial information of purchase price accounting, and while we believe them to be true, they may ultimately prove to be incorrect. The company undertakes no obligation to release publically any revisions to any forward-looking statements to reflect events or circumstances after today, February 11, 2016.,Unless otherwise indicated, our speakers will be referencing non-GAAP measures which include the impact of the change in deferred net revenues and related cost of sales with respect to certain of our online-enabled games. Expenses related to stock-based compensation, the amortization of intangible assets, expenses including legal fees, costs, expenses, and accruals, related to acquisitions, including the acquisition of King Digital Entertainment, the related debt financings and the associated tax benefit.,Please refer to our earnings release, which is posted on www.activisionblizzard.com for a full GAAP to non-GAAP reconciliation and further explanation. There's also a PowerPoint overview, which you can access with the webcast and which will be posted to the website following the call. In addition, we'll also be posting a financial overview, highlighting both GAAP and non-GAAP results in a one page summary sheet.,And now, I'd like to introduce our CEO, Bobby Kotick.,Robert A. Kotick - President, Chief Executive Officer & Director,Thank you, Amrita, and thank you all for joining us this afternoon. This month, Mike Morhaime and I are celebrating our 25th anniversaries with the company, and I wanted to take this opportunity to thank Mike and the incredibly talented team at Blizzard for 25 years of creating some of the world's most inspired, enduring and entertaining franchises. They have one of the best track records of any game company in the creation of franchises, and this year with Overwatch, Blizzard will launch its first entirely new franchise in 17 years. From the reaction so far, Overwatch is on track to become a fantastic success. Mike, thank you for 25 extraordinary years, and I'm looking forward to many more together.,We ended our 2015, our 25th year, with $4.6 billion of revenues, $1.5 billion of operating income and $1.2 billion of operating cash flow. Upon the expected close of our acquisition of King later this month, we'll have over a 0.5 billion monthly active users in 196 countries, which as an entertainment network, ranks only behind Facebook, YouTube and WeChat in monthly active users. We'll have seven times the audience members of Netflix and have a larger audience than Snapchat and Twitter combined. We'll be the world's leading standalone interactive entertainment company and we expect 2016 to be a record year for the company, with $6.25 billion of revenues and more than $2 billion of operating income.,In the past 25 years, based on yesterday's stock price, our compound rate of return was over 1,000% and we outperformed the S&P 500 by almost 300%. In our Annual Report last year, we shared our plans to enhance engagements in our franchises and celebrate our players through initiatives like esports. And we're really beginning to better realize these plans.,Last year, our Activision Blizzard games were played for over 14 billion hours and spectators watched over 1.5 billion hours of video content based on our games. In the 2014-2015 season, fans of the NFL watched about 7 billion hours of nationally-televised games, which is less than half the time spent engaged with our franchises. Those televised games generated approximately $7 billion of broadcast rights fees for the NFL and another $4 billion in other revenues including sponsorships, merchandise and ticket sales.,When we think about our franchises, we view our responsibilities to our fans and the associated business opportunity through the lens of these leagues like the NFL, the Premier League, the NBA, Major League Baseball or NHL. Our franchises today generate revenues principally from the sale of interactive content but not meaningful revenues from tournament play, advertising, broadcasting and pay-per-view, licensing or merchandising, all of which are great future financial opportunities we are pursuing.,We think competitive gaming and the spectator opportunities connected to organized gaming competitions could provide sizeable opportunities for shareholders and great rewards and recognition for our hundreds of millions of players. We continue to believe that esports is another long-term growth pillar for the company, and our recent acquisition of Major League Gaming has accelerated our strategic plans. esports helps fuel one of the underlying drivers of our strong financial performance, which is a deepening engagement with our fans.,As I begin my 25th year at the company, I couldn't be more excited about the many, many opportunities we see ahead. Prioritization of opportunity remains a great challenge but our well-defined strategy and focused execution have enabled us to make great content, satisfy large audiences and generate superior shareholder returns for 25 years. Our talented teams around the world are committed to our future success, and for their effort and commitment to excellence, we are very grateful.,Now, Thomas will discuss the key drivers of our overall performance, Dennis will review our financial results and 2016 outlook in detail and Mike and Eric will discuss the results of their respective operating units. Thomas?,Thomas Tippl - Chief Operating Officer,Thank you, Bobby, and good afternoon, everyone. Activision Blizzard had another successful year in 2015. We achieved record digital revenues up 20% year-over-year, and for the first time in 2015, our digital revenues were larger than our retail revenues. At constant currency, we achieved 4% revenue growth and 13% EPS growth above 2014's record levels. These results are driven by our strategic focus and execution on growing our audiences, deepening engagement and providing opportunities for more player investment. Let's briefly go through each of these key business drivers.,First, we broadened our audience reach with successful new content launches and expanded onto new platforms and geographies. In the fourth quarter, our monthly active users grew to our highest level ever at over 80 million users. For the full year, MAUs grew 25% over 2014. And in key markets like China where we launched three new games in 2015, our revenue growth accelerated to 87% year-over-year, faster than ever before.,Second, we drove deeper engagement by providing outstanding game play and frequent content updates. Players spent 3.5 billion hours playing our games in the fourth quarter alone. For the full year, engagement was up 16% to a record 14 billion hours, and this doesn't include rapidly growing hours spent spectating which we estimate for Activision Blizzard alone is now 1.5 billion hours. Third, we progressed in something that is very hard to do, but is critical for our business. We shifted to a year-round player investment model, while growing engagement at the same time. And as a result, we grew our revenues from in-game content and services to over $1.6 billion. That's up 57% year-over-year at constant FX.,When executed well, increased player investment and deeper engagement are not a tradeoff but instead can reinforce each other, and we are pleased that our results are proving out this important element of our business strategy. As we look ahead to 2016, in our core business, we expect continued growth from these strategic initiatives against a backdrop of an increasing installed base of devices capable of delivering games around the world. We will continue to see the shift towards a digital distribution network, and most importantly, we will deliver another year of the very best interactive entertainment in the world.,In addition to the organic progress we made in 2015, we also created opportunities for growth ahead through new corporate initiatives focused on the fastest-growing parts of our industry. Let's start with King, which we expect to add to our portfolio later this month. King operates in the large and rapidly growing mobile segment with a world-class management team, exceptional game development talent, and great commercial instincts. In addition to being significantly accretive this year, we expect the transaction will solidify Activision Blizzard's position as a world leader in interactive entertainment, positioning the combined company for growth across platforms, audiences, geographies and business models.,Second, our recent acquisition of Major League Gaming will accelerate our opportunities in esports. Major League Gaming provides us with a superb streaming platform, league management expertise with MLG Pro Circuit and online competition and prize play through the GameBattles platform. We believe our investments in esports fit perfectly with our strategy to deepen audience engagement by celebrating our players, delivering high production values to our communities and providing greater opportunities for player investment.,By the end of February, we'll have one of the largest entertainment networks in the world with over 0.5 billion monthly active users in some of the strongest franchises in all of entertainment with meaningful new long-term growth opportunities for future value creation. We couldn't be more excited to welcome the incredibly talented teams at King and MLG into the Activision Blizzard family.,So now, I'll hand it over to Dennis who will take you through our results in detail.,Dennis M. Durkin - Chief Financial Officer,Thanks, Thomas. Good afternoon, everyone. Today I will review our Q4 and full year 2015 financial results, and then I will review our outlook for 2016.,Twelve months ago, our original non-GAAP outlook included revenues of $4.4 billion, 30% operating margin, and EPS of $1.15. Today we are announcing that we delivered revenues of $4.62 billion, a 32% operating margin, and EPS of $1.32; once again exceeding our initial guidance, this year by $221 million on revenues and by $0.17 on EPS.,Importantly, digital revenues achieved a quarterly record in Q4, and for the year, grew 20% or 29% at constant FX versus last year to an all-time annual record of $2.63 billion. This represented a 57% share of our total revenues, up from 46% last year. This strong growth in digital revenue was driven by new and emerging high-margin opportunities including in-game content and services, which grew 57% at constant FX. These in-game content and services now account for about a third of our total revenues. In addition, console full-game downloads grew 56% year-over-year or at 65% at constant FX.,From a capital perspective, we delivered more than $1 billion of operating cash flow for the sixth year out of the past seven years. Further, we strengthened our balance sheet and we were upgraded to investment-grade by Moody's. We paid a record dividend to shareholders, repaid $250 million of our debt and continued to invest in a strong pipeline of new opportunities with high margin potential and announced agreements to acquire King Digital and Major League Gaming. So, it was a busy year on many fronts for the company.,Now, let's take a moment to review our operational performance for 2015. Activision grew in 2015 on its path to becoming an increasingly digital business with digital revenues up nearly 70% this year, driven by strong growth from full-game digital downloads and in-game content and services. We still have considerable opportunity in digital because even with this strong growth, less than 50% of Activision revenues were digital last year.,In Q4, Call of Duty: Black Ops exceeded our plan in prior year in practically every key commercial and engagement metric delivering upside for the year. And more importantly, the Call of Duty franchise had its largest player community ever at yearend. Destiny's Q3 release, The Taken King, continued to perform strongly as well. We did however experience lower than expected performance on Skylanders and Guitar Hero, which Eric will discuss in more detail in a few moments.,2015 was an important year for Blizzard with expansion across more platforms, business models and regions than ever before. It was the first year since our merger that more than 50% of Blizzard's revenue was derived from content in games other than World of Warcraft. Blizzard has also exhibited strong growth in new territories with China revenues reaching new highs. Blizzard's large online community is growing and is stronger than ever.,Now let's turn to our financial results. For the quarter on a GAAP basis, we generated revenues of $1.35 billion, up $135 million versus our November guidance, an operating margin of 18% and GAAP EPS of $0.21, up $0.12 versus our November guidance. For the quarter on a non-GAAP basis, we generated revenues of $2.12 billion, an operating margin of 40% and EPS of $0.83. We outperformed November guidance by $0.01 on EPS. We came in slightly below our revenue expectations largely due to foreign exchange and underperformance on our casual franchises on console.,In terms of EBITDA, in Q4, we generated non-GAAP adjusted EBITDA of $862 million and $1.55 billion for the year. Operating cash flow for the year was $1.19 billion and free cash flow was $1.08 billion. We had no share repurchases during the year. On a non-GAAP basis for the year, revenues were $4.62 billion, down slightly year-over-year and up 4% at constant FX. Our non-GAAP operating income was $1.47 billion, reflecting an operating margin of 32% or 34% at constant FX, and an adjusted EBITDA margin of 34%. Our tax rate was 22% and our EPS was $1.32. At constant currency, our EPS grew 13% year-over-year above 2014's record EPS levels.,Turning to FX, please note that as discussed on prior calls, the strong dollar continued to be a headwind as our international revenues were translated at lower rates than in 2014. In the quarter, the year-over-year FX impact was $125 million on revenue and $0.11 on EPS. For the year, there was a significant FX impact of $364 million on revenue and $0.28 on EPS.,Turning to the balance sheet, as of December 31, we had approximately $5.4 billion in cash and investments, of which approximately $1.35 billion was held domestically. Approximately, $3.6 billion of this cash was held in escrow and combined with the incremental $2.3 billion term loan we have committed from our banking syndicate, we'll provide funding for the closing of our pending King transaction.,Now let's turn to our plans for 2016. For the first time, as we shift to a year-round engagement model in our business, we expect more than 50% of our earnings to be realized in the first three quarters of the calendar year. For our Activision business, we expect Call of Duty to continue its strong momentum by the delivery of fantastic new game content including multiple map packs, in-game content and an innovative new Call of Duty game in Q4.,For planning purposes, as we have assumed in past years, we have modeled Q4 new release sales to be down from last year's Black Ops III levels. We do expect overall Call of Duty franchise revenues, however, to be up for the year given strong engagement trends leading into the digital season for Black Ops in the first half of 2016. On Destiny, we expect to deliver a new expansion in 2016 but note that we no longer expect a full game Destiny release during the year. We do however expect a full game Destiny sequel to now come in 2017. For Skylanders in Q4, we expect to release an innovative new game, which for guidance purposes we plan to be down year-over-year given the challenging competitive environment in the toys to life category.,Turning to Blizzard, we have a lot of exciting plans this year that Mike will cover in more detail later in the call. Blizzard plans to release the highly-anticipated Overwatch in the spring, as well as the Legion expansion for World of Warcraft in the summer. In addition, Hearthstone and Heroes of the Storm will have ongoing content updates throughout the year.,Our 2016 guidance today also includes King, as we expect to close the transaction later this month. Note that there are few key closing conditions still outstanding, including Irish High Court approval and EU regulatory approval, both of which are expected shortly. King has already launched Candy Crush Jelly Saga, the first of three new franchise games that are expected in 2016. We are excited about their plan and look forward to closing of the transaction soon. On capital allocation, our board has once again increased our dividend, this year by 13% to $0.26 per share payable in May. Additionally, once we've closed the King transaction, our primary focus for the near-term will be on debt reduction and we plan to repay up to $1.5 billion of debt in 2016.,With that context, now let's review the numbers. For 2016, we expect GAAP revenues of $6.1 billion, product costs of 23% and operating expenses of 65%. We expect GAAP net interest expense of $245 million. For both GAAP and non-GAAP, we expect a fully-diluted weighted average share count of 767 million and a tax rate of 25%. GAAP EPS is expected to be $0.45. Our GAAP earnings are expected to be down versus prior year as the expected results will be impacted by additional accounting charges associated with the King transaction, which include, among other things, transaction-related costs and the amortization of intangibles resulting from purchase price accounting adjustments. The majority of these GAAP accounting charges will not impact the economics of our business or our cash flows, although they will have a material impact on our 2016 GAAP results.,I want to highlight that there could be significant movement in our GAAP outlook as it will be impacted by estimates and assumptions, which may be materially different when the King transaction actually closes. These estimates and assumptions are inherently difficult to predict. Please refer to our GAAP to non-GAAP outlook reconciliation tables in our earnings release for more details.,On a non-GAAP basis, we expect revenues of $6.25 billion, product cost of 23% and operating expense of 44%. We expect a non-GAAP operating margin of 32% and an adjusted EBITDA margin of 35%. We expect non-GAAP net interest expense of $235 million. Non-GAAP EPS is expected to be $1.75, which as we indicated when we announced the transaction in November, contemplates 30% accretion from King.,A few things to call out to help you understand the non-GAAP EPS numbers here. First of all, please note that as was mentioned earlier, we do not expect a full-game Destiny release this year, which has an approximately $0.15 impact on our guidance. A full-game Destiny sequel is now expected in 2017. Also note that we plan to transition King's current compensation plan from an equity-based compensation program to a cash-based profit-sharing plan more similar to what is used today at Blizzard and in Activision studio organization. Overall this is value-neutral as it moves equity expense into compensation expense. However, it will negatively affect non-GAAP EPS by approximately $0.06 this year. We believe that this incentive structure has proven successful in our existing business and we're confident that it will also drive business results with King. Note that both the Destiny timing and the King compensation impact are included in our $1.75 non-GAAP EPS guidance for the year.,Now let's turn to our quarterly outlook, which assumes King closes later this month. On a GAAP basis for the March quarter, we expect net revenues of $1.26 billion, product costs of 21% and operating expenses of 58%. We expect GAAP and non-GAAP interest expense of $55 million, a tax rate of 25% and share count of 756 million shares. We expect GAAP EPS of $0.21. On a non-GAAP basis for the March quarter, we expect revenues of $800 million, product cost of 23% and operating expenses of 57%. We expect non-GAAP EPS of $0.11.,In summary, 2015 was an important year for Activision Blizzard and we again delivered strong financial results during a truly transformational year for the company, which set a strong foundation for future growth. With the largest interactive entertainment network, some of the most important wholly-owned franchises in all of entertainment, solid execution skill and continued business discipline, we are poised for continued success in driving shareholder value creation over the long-term.,Now I will turn the call over to Eric to discuss Activision.,Eric Hirshberg - President and Chief Executive Officer, Activision Publishing, Inc.,Thanks, Dennis. 2015 was an important growth year for Activision. Our digital revenues grew by 68% year-over-year. At constant currency our total revenues grew 7% and our operating income grew 30% year-over-year with more than 600 basis points of margin expansion.,We're providing great year-round content that our fans love and as a result our monthly active users were up 20% in 2015 year-over-year with a double-digit increase in Q4 as well, reaching our highest level ever. We grew our leadership on next-gen and we now have four of the top 10 titles on PS4 and Xbox One live to date, including the number-one spot with Call of Duty: Black Ops III. And our partnership with Sony is off to a great start on both Call of Duty and Destiny.,This year we saw our largest franchise, Call of Duty, ascend to new heights with performance above our plan. OI and margin growth for Call of Duty continues to expand, and we also saw phenomenal reception to in-game content and services. This is a virtuous cycle. Engagement creates the opportunity for us to earn additional player investment by providing more great content, which in turn leads to more engagement.,Along with our partners at Bungie, we continued to grow Destiny's incredibly loyal audience base and introduce new ways to excite the community throughout the year, culminating in the release of The Taken King, which achieved record digital attach rates in Q3. And the Destiny community responded well to the new content we made available for purchase in-game in Q4, which allowed players to customize their experience.,Our games for core audiences did extremely well, but our games for casual audiences performed below expectations, largely due to greater competition in the toys-to-life genre and we believe because of the casual audience's shift to mobile devices, which will benefit the company overall in the future. We want to be where our casual audience is. In light of the pending King transaction, we're exploring new opportunities on mobile.,While Skylanders performed below our expectations, we believe in its future and remain committed to the franchise. We will do what we always do, which is to make sure that we have right-sized the investment on our efforts in the category while continuing to introduce breakthrough innovations that our fans will love. We're excited about the innovations in the next Skylanders game launching this fall from the creators of the franchise and the genre, Toys for Bob. More on that in the coming months.,We expect to launch Skylanders Academy, a new animated TV series later this year, which will help extend the reach and the popularity of the franchise and introduce our characters and their adventures to new audiences. Next, Guitar Hero Live is a fun, high-quality game that introduced innovative new game play to fans, including the GHTV platform, which keeps our community engaged and will allow us to cost-effectively deliver new content and build our installed base. We plan to release new content, but not another full Guitar Hero console game this cycle.,Turning to Destiny, the Destiny community is one of the most passionate, loyal audiences for a game that we have ever seen. Our audience has logged nearly three billion hours in the game. We're excited to announce that we will be bringing a large new expansion to Destiny this year that players are going to love. We will also be delivering other content and events throughout the year to keep the community engaged. We are also working with Bungie on the sequel to Destiny, which will be coming in 2017, and we look forward to sharing more with you on this in the future.,Finally, Call of Duty, which continues to gain momentum and set new records. In quarters one through three, Call of Duty: Advanced Warfare over-performed our plan and the prior year with very strong performance on our digital season of content. In Q4, Call of Duty: Black Ops III exceeded our plan and the prior year in practically every key area: retail sell-in and sell-through, digital full game sales, digital in-game sales and season pass sales.,Black Ops III delivered the biggest entertainment launch of 2015, even beating Star Wars: The Force Awakens in its opening weekend. Black Ops III was the top-selling console game globally by a wide margin in both units and dollars sold through. In fact, according to NPD and GfK, we sold through more copies of Black Ops III than the two closest competitors in the genre combined.,On a franchise basis, Call of Duty was number one in North America for an incredible seventh year in a row and has now surpassed 250 million units sold life-to-date worldwide with over $15 billion in sell-in on full game and in-game content. Importantly, engagement on Call of Duty exceeded both our plan and the prior year. Call of Duty franchise monthly active users grew by 20% year-over-year in December and time spent grew by 30%. In fact, in November and December, we had the highest monthly active users in franchise history.,This reach and engagement is a promising sign as we look ahead to Black Ops III's upcoming 2016 season of content. Season pass sales for Black Ops III have increased significantly year-over-year, setting a franchise record for total sales.,We're seeing that players are deeply invested in personalizing their game play experience in the game. We launched Supply Drops for Advanced Warfare well after the launch of the game itself, driving significant player investment and strong engagement. We have already launched an early version of Supply Drops in Black Ops III and we plan to create more fun, new content for our fans to enjoy in the months ahead.,This Q4 we will have a new innovative Call of Duty game from our award-winning studio, Infinity Ward, the makers of the Modern Warfare series. And, of course, our esports initiatives on Call of Duty are transforming the experience for pro players and fans alike. Interesting Call of Duty esports continues to rise with a third more people watching the prequalifying matches for Call of Duty World League than watched the championship matches last year. The top teams in the world are competing each week in live broadcast competition to see who will qualify for the Call of Duty World Championships later this year. We'll broadcast 750 hours of competitive Call of Duty programming, but more importantly we'll inspire millions of Call of Duty fans to celebrate the game in a whole new way.,And now I'll turn the call over to Mike to talk about Blizzard.,Michael Morhaime - Chief Executive Officer of Blizzard Entertainment, Activision Blizzard, Inc.,Thank you, Eric. 2015 was another strong year for Blizzard. We achieved an all-time high in active players and ended Q4 up nearly 25% in average MAUs year-over-year. On a constant currency basis we achieved even higher revenues in 2015 than 2014, which was a record year for us. These results reflect our careful and long held approach to growing our community and deepening their engagement with high-quality content.,In 2015 we expanded to new platforms and new regions, bringing our games to more players than ever before. In addition, we broke new ground with the first live telecast of a collegiate esports tournament on ESPN. And our ninth BlizzCon highlighted the amount of diversity and diversity of upcoming content in our pipeline. BlizzCon also showed the strong connection we have with our global community. More than 25,000 Blizzard gamers attended the show from all 50 states and nearly 60 countries. We had our highest live stream viewership ever with over 10 million people around the world tuning in, and we had record audience on pay-per-view as well. Our specific franchise highlights further demonstrate the value we see in delivering and supporting high-quality game experiences globally.,Hearthstone had a great quarter and a great year. For those who might not be familiar with Hearthstone, it's our free-to-play collectable card game on PC, Mac, tablet and mobile. It has very strong global appeal and it brought Blizzard to a new genre on new platforms with a new business model. Ahead of BlizzCon, Hearthstone surpassed 40 million registered players and it closed out December with record global engagement in multiple categories including MAUs. The introduction of Hearthstone on mobile last year was a big contributor to that.,We announced our new adventure, The League of Explorers at BlizzCon and launched it the following week. League of Explorers brings new cards, new game mechanics and a lot of personality. Despite the shorter window to launch and no presales as we'd had with our previous adventure, League of Explorers sold over 20% more units as of six weeks post launch. We also expanded Hearthstone into a new region. In October we released the Japanese version providing easier access for new and existing Japanese players.,Moving onto World of Warcraft, we saw quarter-over-quarter growth in Q4 as we kicked off presales at BlizzCon for our new expansion, Legion, which is coming out in the summer, and we released a new content patch. With Legion we're taking care to build off the best aspects of Warlords of Draenor to create an experience that appeals to an even wider audience and which offers more opportunities for sustained engagement.,Legion adds a new hero class, customizable weapons, class order hauls, which strengthen the social elements of the game and more. This will give players more compelling options for extending their experience. With this expansion we are again offering a character level boost immediately with pre-purchase. And for the first time, we're also offering early access to the new character class, which will be activated for everyone who pre-purchases the expansion once it's ready.,Before I move on, I want to thank our community for the generosity they showed with the World of Warcraft charity pet that we offered on behalf of Make-A-Wish. With our player support we achieved a new record for the donation we'll be making to Make-A-Wish, over $1.7 million. That reflects the passion and power of a very strong and very engaged community.,Next, Overwatch, our new IP, which will be a big step into a new genre for us as well as our first simultaneous release across multiple platforms. As with other Blizzard franchises, we have long-term plans to support this new IP with more content and also with external world-building efforts and a robust esports program. Overwatch made a lot of news in the quarter and continued to build momentum. We announced the remainder of the 21 hero launch lineup at BlizzCon and revealed the console versions of the game. We also began closed beta testing reaching top-viewed status on Twitch. In addition, we shared our plans to patch in more heroes after launch, which received a very positive response. We are excited about Overwatch's potential and we look forward to sharing more details as we get closer to its spring release.,One of our big highlights for the quarter was the launch of StarCraft II: Legacy of the Void. The new features and content make StarCraft II easier to get into than ever before, and we saw a lot of excitement with the launch. As of its first 24 hours, Legacy of the Void had sold through more than 1 million copies. In addition it received multiple awards for best strategy game of 2015.,At BlizzCon we announced a series of standalone digital mission packs featuring Nova, a popular character in StarCraft II and Heroes of the Storm. This content will give players exciting new options for continuing their StarCraft II experience, and it will be a great entry point for anyone new to StarCraft. We've been very pleased to see a very positive player response and look forward to releasing the first mission pack in the spring.,Q4 was also a busy one for Heroes of the Storm, our free-to-play team brawler that features iconic characters from across our bestselling franchises. With Heroes of the Storm, we've worked hard to push the boundaries of the genre, while keeping the game engaging and accessible for the widest possible audience. For example, at BlizzCon we announced a new game mode, The Arena, which will mix up gameplay with fun parameters, smaller maps and shorter sessions when it's released later this year. We also revealed our tenth Battleground and three new heroes at the show, including Cho'gall, a hero controlled by two players. Players around the world have responded with enthusiasm for unique heroes like Cho'gall, and with support for the experience that Heroes of the Storm delivers. Heroes of the Storm had a great close to the year, taking home multiple awards, including Best Competitive Multiplayer and Best MOBA from Game Informer.,I also want to touch on the Diablo III, which has a strong and active community nearly four years after launch. The game performed very well throughout 2015, in part due to our launch in China, which broke sales records there. Players and the media have been enthusiastic about the content we've added over time and our recent patch in January is no exception. There are new zones, legendary weapons, set dungeons and more. In addition we periodically restart seasons, refreshing the challenge for players. Diablo III continues to thrive in all regions and we appreciate all the support from players around the world.,We are also supporting community engagement and franchise growth outside of our games, particularly with world-class esports that represent the diversity of our portfolio and our audiences' interests. At BlizzCon we had our strongest esports lineup to date and crowned champions in Hearthstone, World of Warcraft Arena, StarCraft II and Heroes of the Storm, four very different but equally exciting esports experiences for attendees and spectators online.,Looking forward, 2016 will be our biggest Blizzard esports program ever. It will be Heroes of the Storm's first full year of global competition. In addition, Heroes of the Dorm collegiate tournament is return and we've added another evening of primetime coverage this time. With the final matches – The Heroic Four – playing out over two nights on ESPN 2. We also made changes to the StarCraft II World Championship Series and Hearthstone's Championship Tour to give local heroes even more opportunities to shine. And we're excited about our esports plans for Overwatch and look forward to sharing more details about that in the future.,With strength across all franchises and broader reach than ever, we're very enthusiastic about 2016. We are especially excited about the spring launch of Overwatch and look forward to releasing World of Warcraft Legion in the summer on the heels of the June release of the Warcraft movie. With all the content and activities we have planned, we expect another year of solid growth of the Blizzard community and we're very excited about the future.,As Bobby mentioned, Monday was Blizzard's 25th anniversary. We've poured our hearts into making great games for 25 years. We're very proud of the worlds that we've created and the great moments we've shared with our players. We are extremely grateful for the support of our players, and we look forward to many more adventures in the next 25 years and beyond.,Thank you, and I'll turn the call back over to Amrita.,Amrita Ahuja - Senior Vice President-Investor Relations,Operator, we're ready for some questions.,Question-and-Answer Session,Operator,Thank you. And we'll first go to Doug Creutz from Cowen and Company.,Douglas L. Creutz - Cowen and Company,Hey. Thanks. Just on King just briefly, you can confirm that I can do math. With a $1.75 guide and 30% accretion, it sounds like you're expecting $1.35 from the existing business and $0.40 from King. And then the longer question is with King, most of King's peers advertise in their games and King does not. And I know King had some reasons why they made that decision, but I'm just wondering if you look at that, do you think that's a significant opportunity for King going forward? Thank you.,Thomas Tippl - Chief Operating Officer,Hey, Doug. So the way we think about advertising, we think of it as a proven part of large network entertainment businesses like Facebook, YouTube and even Twitch. And therefore we believe it could also be a huge opportunity for the network that we're building, particularly the parts that are accessible for free. Now all that said, we have and always will prioritize a great user experience above all else, and therefore this is an opportunity that we will approach with great care and is also the reason why none of it is factored into the plan and the numbers that we just shared with you today. But when you think about the future, we think there's a significant opportunity and with that significant option value there.,Douglas L. Creutz - Cowen and Company,Great. And then just the question about guidance?,Dennis M. Durkin - Chief Financial Officer,Yes, Doug, it's Dennis. On that, due to the ongoing King transaction and the Irish regulatory restrictions until we get that approval, we're actually not able to unpack the specifics of the pieces. So we'll have to cover that as we get into our next quarterly call.,Douglas L. Creutz - Cowen and Company,Okay, fair enough.,Operator,And we'll now move to Brian Pitz from Jefferies.,Brian J. Pitz - Jefferies LLC,Thanks for the question. A question on Destiny. Lots of change obviously going on at Bungie right now. Maybe you could comment on what it all means? And then any commentary maybe on micro transaction plans for the driving of ongoing engagement? Thanks so much.,Eric Hirshberg - President and Chief Executive Officer, Activision Publishing, Inc.,Sure. Thanks, Brian. So, first of all, it's important for us to keep it in context and acknowledge that we have incredible success on our hands with Destiny that we've created with Bungie, the partnership between Activision and Bungie has proven to be a potent one and we don't see that changing. I think Bungie's proven themselves to be a capable team over many years and many games and combinations of leadership. So while the decisions that they made recently related to their organization are up to them, we're confident that our interests remain 100% aligned and that we're going to continue together to deliver amazing content for our shared fans.,On the second part of your question, Destiny is one of the most engaging games of all time and our first job is to make sure that it stays that way. So all the content that we're providing is designed to make sure that we not only capitalize on that engagement, but also continue to make the game better and better for our fans, and that's why we're planning on delivering a large expansion this year and more incremental content along the way to keep fans engaged. And of course we're looking forward to Destiny 2 in 2017.,Brian J. Pitz - Jefferies LLC,Great. Thanks.,Operator,And we'll now go to Neil Doshi from Mizuho.,Neil A. Doshi - Mizuho Securities USA, Inc.,Great. Thanks, guys. Mike, can you maybe help us think about the units built into the guide for Overwatch? I know you guys don't really guide to units, but maybe help us think about other games in the past as a potential comp and how we should be thinking about Overwatch's contribution? And then what drove the solid growth in China revenue, and how much of that came from Call of Duty in China? Thanks.,Michael Morhaime - Chief Executive Officer of Blizzard Entertainment, Activision Blizzard, Inc.,So you're right, we don't typically provide sales guidance. But what I can say is we're extremely excited about Overwatch. It's an important step for us into a new genre that we think has a ton of potential. We have seen a very positive response from players, over 8 million players have signed up for the beta test. Since beta we have been very happy with viewership interest on Twitch.,Overwatch is every bit a Blizzard game in terms of I think it exemplifies the design values that we have. It's a ton of fun, it's excellent gameplay, art style, interface. And so I think we're bringing a Blizzard take to an already very fun genre. We're looking forward to launching on PC and consoles on a simultaneous launch this spring. And like other Blizzard franchises, we have long-term plans to support Overwatch through ongoing content, world-building efforts outside of the game to build the franchise, the IP and a robust esports program. So we have a lot of reasons to be very optimistic that Overwatch will be an important long-term addition to our collection of franchises.,Dennis M. Durkin - Chief Financial Officer,Right. And then to the second – I guess maybe the first part of your question about China and sort of how China revenues have moved. A lot of the growth came over the course of the year by having – we obviously have more games in in-market than we've had in the past. But it was really broad-based performance across the portfolio. Diablo obviously had a very strong year, Hearthstone as well caught online, and the rest of the portfolio. So it was really the breadth of the portfolio, but it was really broad-based performance across the portfolio.,Neil A. Doshi - Mizuho Securities USA, Inc.,Thanks, Mike. Thanks, Dennis.,Operator,And we'll now go to Arvind Bhatia from Sterne Agee.,Arvind Bhatia - Sterne Agee CRT,Good. Thanks for taking my question. I was wondering if just going back to the Call of Duty online China question, just how that's been trending throughout the year and as you exit 2015, now that you've had a little bit of time to see it ramp up, how is it performing relative to what you might have expected? And does your 2016 guidance contemplate meaningful contribution from that? Thank you.,Eric Hirshberg - President and Chief Executive Officer, Activision Publishing, Inc.,Thanks, Arvind. The game has been growing revenues month-over-month for the last six months in a row and we believe that the updates we have planned for 2016 will further improve the game play and the performance. The updates to come this year are going include enhancements to the user interface, to onboarding, the addition of supply drops inspired by the success we've seen with that in our western products, esports features and social systems that will make our communities' engagement even stronger and additional modes and maps and characters as well. We also continue to work closely with Tencent to bring more people into the game, which is critical. So we remain optimistic about the game's opportunities and as we said when we launched the game into beta, it will take time to build the ramp.,Dennis M. Durkin - Chief Financial Officer,Relative to the second part of your question what's in the guidance, we have a very prudent I'd say ramp forward even though we have great aspirations for the opportunity that we have inside the game.,Arvind Bhatia - Sterne Agee CRT,Okay. Thank you.,Eric Hirshberg - President and Chief Executive Officer, Activision Publishing, Inc.,Thanks.,Operator,And our next question comes from Colin Sebastian from Robert W. Baird.,Colin A. Sebastian - Robert W. Baird & Co., Inc. (Broker),Great. Thanks. Hoping you could add a little detail on the investment required to support both esports as well as the broader multimedia initiatives? And more specifically, how much upfront and ongoing investment or risk do you take on versus the media partners?,And then secondly, obviously you mentioned competition intensifying with some of the casual games, but just to confirm is there any macro related pressure either we're seeing through price discounting or sell through that you can identify? Thank you.,Robert A. Kotick - President, Chief Executive Officer & Director,So I'll take the first one, Colin. So as we said there isn't a significant investment in the esports individual operating unit initiative or in the other broader media areas. But what we step back and look at is ESPN. And when you look at ESPN with 80 million subscribers and you see the flight of some of the subscribers, and the opportunities that we see there is roughly $5 billion of operating profit there, $4 billion of league payments for the broadcast rights, and we have 80 million of our own players.,And over a long period of time we think that watching a video game competition is going to be a tremendous opportunity. It doesn't require a very big investment today, it just requires us to have and in fact most of the efforts we have are funded by things like organized competition ticket fees, but when you look at what the opportunity is for the future to enhance engagement, to build and strengthen our franchises, to celebrate our players, to provide rewards and recognition for our players; these initiatives are really important for the building of engagement and enhancing the value of our franchises.,Robert A. Kotick - President, Chief Executive Officer & Director,And I guess just to build on that from the investment side, all of our investments start with great people, we now have great leaders in those businesses to prudently invest behind, but as we always are, we're being very choiceful in how we invest and disciplined about the gated investments in those areas. This year it's really less than a couple pennies of investment that will go into our new divisions from an overall company EPS perspective. And most of that is against the media networks which is our esports division that Bobby was referencing there.,We do have additional esports investments in some of our business and franchise level details like Mike and Eric alluded to, but we think those are more around demand generation than anything and help support the franchises that they cover.,On your other question, Colin, around macro environment and sort of competitive aspects, it is, yeah, you hit on the obviously Skylanders and Guitar Hero points where in the casual segment on console there was more competition, that feels more category specific. When we look more across the broad base of our business, we feel we haven't really felt many of the macro trends that are sort of – and volatility we've seen in the overall market really affecting our business. And in fact, many of the digital trends when you look at our biggest franchises are stronger than ever. And in fact, in many new regions, even regions that are experiencing some turmoil like China, we've had great growth in the past year. So for us, it's more about delivering great content on cadence that will be the most important thing for us.,Colin A. Sebastian - Robert W. Baird & Co., Inc. (Broker),All right. Thanks, guys.,Robert A. Kotick - President, Chief Executive Officer & Director,Thanks, Colin.,Operator,And we'll now go to Eric Handler from MKM Partners.,Eric O. Handler - MKM Partners LLC,Yes. Thanks for taking my question. Interested – what do you think is going to be the planned cadence of releases for Hearthstone this year? And maybe how should we think about the key drivers of growth there in terms of users, specifically like what markets are showing the best growth, and is there still growth drivers among the digital platforms? And also, when you think about higher spending per user, what's going to be the key driver of that?,Michael Morhaime - Chief Executive Officer of Blizzard Entertainment, Activision Blizzard, Inc.,Okay. Regarding cadence, we definitely have plans for some great new content this year, but we're not quite ready to discuss the timing. I can confirm that our next expansion will be out in the spring.,As for growth drivers, we've consistently seen strong engagement pretty much universally globally, and we plan to continue supporting that with new content for the foreseeable future. Bringing Hearthstone to mobile last year drove a lot of growth, as did releasing a good amount of new content. We also plan to support the community around social events for the game such as fireside gatherings and high-profile esports experiences. This also drives engagement. In addition, we'll be looking at geographical expansion opportunities like we did last year with Japan. In general, spending does increase around new content, so we're focusing on providing great experiences with new content and making careful design decisions to make sure we protect the long-term health of the game.,Eric O. Handler - MKM Partners LLC,Great. Thanks, Mike.,Operator,And our last question will come from Chris Merwin from Barclays.,Chris Merwin - Barclays Capital, Inc.,Great. Thank you. I just had one. For all of your titles, what percentage of unit sales were digital downloads in the fourth quarter? And as it relates to your 2016 guidance, what are you implicitly factoring in for digital downloads, and what would that imply for gross margins? Thanks.,Robert A. Kotick - President, Chief Executive Officer & Director,Hey, Chris. Thanks. Obviously, the digital transition has been a very nice tailwind for us over the past several years. And really, front-line console games are the final part of that transition, but it's only really part of the equation. As we mentioned in the call in Thomas's remarks and my remarks, the add on content in services which is purchases effectively after the initial sale are really increasingly more important or as important and are growing incredibly fast and is one of the fastest parts of our digital portfolio.,To your question, though, on front-line titles, it really varies by title. So for games like Destiny, it had, in the high-20%s in terms of digital downloads. In terms of overall volume for Call of Duty just based on the size of the player base, full game downloads were a lower share than that, although on an absolute basis, full game downloads were up over 80% year-over-year, so very nice progress there. And we know when we look at the Blizzard side of our portfolio on the PC, the vast majority of those front-line games are delivered digitally.,Obviously that brings margin benefits for us as each new game gets delivered through digital channels, brings us gross margin benefits, and you'll see that in our overall corporate margin. We were at 32% this year, and with currency effects or excluding the currency effects, it would have been north of 34%. So overall, we think that trend is going to continue on the console side, particularly on the front side, and it will be a nice tailwind for us for 2016 and beyond.,Thomas Tippl - Chief Operating Officer,Chris, the vast majority of what we create are zeroes and ones, and when you look out over 500 million people in the network, you're going to see for the first time we really have the opportunity to sell our products in virtually every country in the world on every type of device, whether it's a mobile device, a desktop device or a console. And so the most important thing for us is engagements across our communities and then the opportunities for delivering player investment follow from there.,Chris Merwin - Barclays Capital, Inc.,Great. Thank you.,Dennis M. Durkin - Chief Financial Officer,All right. Thank you. Well, we appreciate the time today, and we look forward to talking to you on our Q1 conference call in the spring.,Operator,This concludes today's presentation. Thank you for your participation.,THE INFORMATION CONTAINED HERE IS A TEXTUAL REPRESENTATION OF THE APPLICABLE COMPANY'S CONFERENCE CALL, CONFERENCE PRESENTATION OR OTHER AUDIO PRESENTATION, AND WHILE EFFORTS ARE MADE TO PROVIDE AN ACCURATE TRANSCRIPTION, THERE MAY BE MATERIAL ERRORS, OMISSIONS, OR INACCURACIES IN THE REPORTING OF THE SUBSTANCE OF THE AUDIO PRESENTATIONS. IN NO WAY DOES SEEKING ALPHA ASSUME ANY RESPONSIBILITY FOR ANY INVESTMENT OR OTHER DECISIONS MADE BASED UPON THE INFORMATION PROVIDED ON THIS WEB SITE OR IN ANY TRANSCRIPT. USERS ARE ADVISED TO REVIEW THE APPLICABLE COMPANY'S AUDIO PRESENTATION ITSELF AND THE APPLICABLE COMPANY'S SEC FILINGS BEFORE MAKING ANY INVESTMENT OR OTHER DECISIONS.\n"
     ]
    },
    {
     "name": "stderr",
     "output_type": "stream",
     "text": [
      "/usr/local/lib/python2.7/dist-packages/ipykernel_launcher.py:1: DeprecationWarning: \n",
      ".ix is deprecated. Please use\n",
      ".loc for label based indexing or\n",
      ".iloc for positional indexing\n",
      "\n",
      "See the documentation here:\n",
      "http://pandas.pydata.org/pandas-docs/stable/indexing.html#deprecate_ix\n",
      "  \"\"\"Entry point for launching an IPython kernel.\n"
     ]
    }
   ],
   "source": [
    "print df['Train'].ix[48]"
   ]
  },
  {
   "cell_type": "code",
   "execution_count": 137,
   "metadata": {},
   "outputs": [],
   "source": [
    "df['Train'] = df['Train'].str.replace('\"', '')\n"
   ]
  },
  {
   "cell_type": "code",
   "execution_count": 138,
   "metadata": {},
   "outputs": [
    {
     "name": "stdout",
     "output_type": "stream",
     "text": [
      "Q2 2015 Earnings Call,August 04, 2015 4:30 pm ET,Executives,Amrita Ahuja - Sr. Vice President, Investor Relations,Robert A. Kotick - President, Chief Executive Officer & Director,Thomas Tippl - Chief Operating Officer,Dennis M. Durkin - Chief Financial Officer,Eric Hirshberg - President and Chief Executive Officer, Activision Publishing, Inc.,Michael Morhaime - Chief Executive Officer of Blizzard Entertainment, Activision Blizzard, Inc.,Analysts,Drew E. Crum - Stifel, Nicolaus & Co., Inc.,Chris Merwin - Barclays Capital, Inc.,Michael J. Olson - Piper Jaffray & Co (Broker),Justin Post - Bank of America Merrill Lynch,Douglas L. Creutz - Cowen & Co. LLC,Brian J. Pitz - Jefferies LLC,Eric O. Handler - MKM Partners LLC,Colin A. Sebastian - Robert W. Baird & Co., Inc. (Broker),Operator,Well, good day ladies and gentlemen and welcome to the Activision Blizzard Q2 2015 earnings conference call. Today's conference is being recorded.,I will now turn today's call over to Ms. Amrita Ahuja. Please go ahead.,Amrita Ahuja - Sr. Vice President, Investor Relations,Good afternoon and thank you for joining us today for Activision Blizzard's second quarter 2015 conference call. Speaking on the call today will be Bobby Kotick, CEO of Activision Blizzard; Thomas Tippl, COO of Activision Blizzard; Dennis Durkin, CFO of Activision Blizzard; Eric Hirshberg, CEO of Activision Publishing; and Mike Morhaime CEO of Blizzard Entertainment.,I would like to remind everyone that during this call we will be making statements that are not historical facts. These are forward-looking statements that are based on current expectations and assumptions that are subject to risks and uncertainties. A number of important factors could cause the company's actual future results and other future circumstances to differ materially from those expressed in any forward-looking statements, including the factors discussed in the risk factor sections of our SEC filings including our 2014 annual report on Form 10-K which is on the file with the SEC and those indicated on the slide that is showing.,The forward-looking statements in the presentation are based on information available to the company as of the date of this presentation, and while we believe them to be true, they ultimately may prove to be incorrect. The company undertakes no obligation to release publicly any revisions to any forward-looking statements to reflect events or circumstances after today, August 4, 2015, or to reflect the occurrence of unanticipated events.,I would like to note that certain numbers we will be presenting today will be made on a non-GAAP basis, excluding the impact of the change in deferred net revenues and related cost of sales with respect to certain of our online-enabled games, expenses related to stock-based compensation, the amortization of intangible assets, expenses including legal fees, costs, expenses and accruals related to the purchase transaction and related debt financing, and the associated tax benefits. Please refer to our earnings release which is posted on www.activisionblizzard.com for a full GAAP to non-GAAP reconciliation and further explanation. There's also a PowerPoint overview which you can access with the webcast and which will be posted to the website following the call. In addition, we will also be posting a financial overview highlighting both GAAP and non-GAAP results and a one-page summary sheet.,And now, I'd like to introduce our CEO, Bobby Kotick.,Robert A. Kotick - President, Chief Executive Officer & Director,Thanks very much, Amrita, and thank you all for joining us this afternoon. Q2 was another strong quarter and we have a lot of momentum going into the back half of this year. Our teams around the world continued to deliver the very best interactive entertainment and our franchises continue to be among the strongest in all of entertainment. On today's call, Thomas will discuss the key drivers of our over-performance, Dennis will review our financial results in detail, and then Mike and Eric will discuss the positive results in their respective operating units. Thomas.,Thomas Tippl - Chief Operating Officer,Thanks, Bobby. Our strategic focus on expanding our franchise portfolio with captivating and original new intellectual property, innovating on new platforms, and expanding into new geographies is reflected in our results. We outperformed our Q2 targets and last year's results on revenues, digital growth, and earnings per share. These strong results and the excitement for upcoming launches have driven us to raise our full year outlook yet again. As we're successfully transitioning from a launch to a year-round engagement model, our audience base and the total amount of time people spend with our franchises continue to grow. In the second quarter, our monthly active users grew at 35% year-over-year. And in a world with so many entertainment choices from television to movies to social media and beyond, we are grateful that people are choosing to spend more and more of their time with us.,In the second quarter, the amount of time our community spent playing Activision Blizzard games grew by 25% year-over-year. In fact, this past quarter, our player communities logged nearly 3.5 billion hours of game play with our key franchises, Heroes of the Storm, Hearthstone, World of Warcraft, Diablo, StarCraft, Skylanders, Destiny, and Call of Duty. And these numbers do not even include the rapidly increasing amount of time expected to spend watching content based on our games on channels like Twitch and YouTube.,Our strategic investment in new franchises, platforms and geographies continue to pay off, and along with growing engagement and better monetization, set the stage for more growth ahead. We're well underway to expanding our franchise portfolio from 5 to over 10, with four new intellectual properties already launched and performing well. In addition, the beloved Guitar Hero franchise will return this fall with product innovation that we couldn't be more excited about, and Overwatch is on the horizon with a beta this fall.,We have an increasing focus on mobile and tablet. Hearthstone's release on iOS and Android smartphones in April through the player base has been a key driver of our performance in Q2 and should benefit us for the foreseeable future. Guitar Hero Live fall release will also include mobile and tablet at launch, and we're redoubling our efforts to provide a great mobile experience for our Skylanders franchise, in addition to making the full game available on tablets.,Finally, we are positioned for growth in new geographies, and in particular in large and fast-growing China. We now have six franchises in market in China up from two at the start of last year and we're already seeing strong results with our teams and partners in China delivering record revenues in MAUs in Q2. Before I hand it over to Dennis, I want to thank our talented teams who continue to execute very well. Our employees are extraordinarily committed and they create the most engaging entertainment experiences for our players and it shows in our results, which Dennis is now going to take you through in detail.,Dennis M. Durkin - Chief Financial Officer,Thanks, Thomas. Good afternoon, everyone. Today I will review our better than expected Q2 financial results, our outlook for Q3, and our increased outlook for 2015. Unless otherwise indicated, I will be referencing non-GAAP measures, so please refer to our earnings release for full GAAP to non-GAAP reconciliations.,For the quarter on a GAAP basis, we generated revenues of $1.04 billion, up 8% year-over-year and operating margin of 32% and GAAP EPS of $0.29 up $0.08 versus our May guidance. For the quarter on a non-GAAP basis we generated revenues of $759 million and operating margin of 23%, up more than 550 basis points year-over-year and EPS of $0.13. We outperformed last year's revenue and EPS by $101 million and $0.07 respectively. At constant FX for Q2, we outperformed last year's revenue by $188 million or 29%, operating income by $116 million or 103%, and EPS by $0.13. In addition, we outperformed our May guidance by $109 million on revenue and $0.06 on EPS. Revenue and EPS outperformance was primarily due to strong growth in recurring revenue from digital content across our broad franchise portfolio. Importantly, total digital revenues grew 27% year-over-year to a Q2 record of $611 million.,The main franchise drivers of the quarter's performance were: Hearthstone, with the launch of their newest adventure, Blackrock Mountain, as well as the release of Hearthstone onto new Android and iOS smartphones; Destiny, with the launch of their second expansion, House of Wolves; Call of Duty with sales of Seasons Pass, DLC and microtransactions like Supply Drops for Advanced Warfare; Blizzard's Diablo III which launched and outperformed in China, helping drive record revenues in China for the company this quarter; and finally, Blizzard launched Heroes of the Storm globally on June 2. Note that this quarter was an important inflection point for Blizzard. In spite of World of Warcraft subscriber declines, which were more concentrated in the east, and partly affected by the success of Diablo III in China, Blizzard grew its Q2 revenues 29% year-over-year at constant FX. This performance was driven by the strong performances of Diablo, Hearthstone and Heroes of the Storm, which in Q2 made up the majority of Blizzard revenues.,The franchise diversification inside Blizzard is happening rapidly and even more importantly the aggregate Blizzard community is healthy and growing and in Q2 reached the highest levels in Blizzard history on the back of strong engagement across the expanded portfolio. And the community will have even more to enjoy with an incredible lineup of new content for these franchises that is yet to come. You'll hear more details from Mike on Blizzard's engagement and pipeline later in the call.,In terms of EBITDA and cash flow, in Q2 we generated strong non-GAAP adjusted EBITDA of $193 million, up $47 million year-over-year, operating cash flow of $135 million and up 27% year-over-year and free cash flow of $107 million up 32% year-over-year. In Q2 we also paid our previously announced $0.23 per share cash dividend, a 15% increase year-over-year and had no share repurchases in the quarter.,Turning to the balance sheet as of June 30, we had approximately $4.5 billion in cash and investments of which approximately $800 million was held domestically. We had total debt of $4.12 billion and net cash of approximately $400 million.,Turning to FX, please note, as discussed on our February and May calls, the strong dollar has had and will continue to be a headwind this year as our international revenues are translated at lower rates than last year. In Q2, the year-over-year impact of the strengthening of a dollar was $87 million on revenue and $0.06 on EPS. Year-to-date, the year-over-year FX impact was $154 million on revenue and $0.11 on EPS.,Now let's turn to our slate and our outlook for Q3 and for the balance of 2015. We are planning one of the best content pipelines in our history for the back half of the year and the games are all progressing very well. You will hear more about our Q3 and Q4 slate from Eric and Mike. New releases include Destiny's mega expansion, The Taken King, Skylanders SuperChargers, Guitar Hero Live, Call of Duty: Black Ops III and Hearthstone's expansion, The Grand Tournament. One important addition is we are now confirming that the much anticipated final chapter for StarCraft II: Legacy of the Void is expected to be released in 2015 and will now be included in our guidance for the full year.,Looking forward to Q3, on a GAAP basis we expect net revenues of $875 million, product costs of 26% and operating expenses of 59%. We expect GAAP and non-GAAP interest expense of $51 million, a GAAP tax rate of 23%, a GAAP and non-GAAP share count of $748 million, and EPS of $0.08. For Q3 on a non-GAAP basis we expect revenues of $930 million, product costs of 25% and operating expenses of 55%. We expect a non-GAAP tax rate of approximately 25% and non-GAAP EPS of $0.14. Note that our guidance is at FX spot rates as laid out in the accompanying slides on our IR website.,Now to our 2015 full year numbers. For 2015 on a GAAP basis, we expect revenues of $4.425 billion, product costs of 24%, operating expenses of 48%, and GAAP interest income expense of $202 million. Our GAAP tax rate is expected to be 22%. We expect $750 million fully diluted shares, both for GAAP and non-GAAP, and GAAP EPS is expected to be $1.06 up $0.08 from our May guidance.,For 2015 on a non-GAAP basis, we expect revenues of $4.6 billion, $175 million higher than our May guidance, product costs of 23%, operating expenses of 45%, and an operating margin of 32%, 100 basis points better than our May guidance. We expect non-GAAP interest expense of $201 million and our non-GAAP tax rate is expected to be 24%.,For the second time this year, we are raising our EPS outlook. Our new outlook has increased by $0.10 to $1.30 based on strong franchise momentum coming out of Q2 and now including the StarCraft: Legacy of the Void in our full year numbers. At constant FX, we now project year-over-year growth on the top line and bottom line including record EPS for the year.,In summary, strong engagement and recurring digital monetization trends are driving our financial results so far this year and give us great momentum heading into the back half of the year. Along with these digital trends, our strategic investments in new franchises, platforms and geographies are paying off. This backdrop sets the stage for growth as we take advantage of the best content pipeline in our history.,Now I will turn the call over to Eric to discuss Activision Publishing.,Eric Hirshberg - President and Chief Executive Officer, Activision Publishing, Inc.,Thanks, Dennis. Activision Publishing significantly outperformed last year's result and delivered meaningfully higher digital revenues and operating income for the quarter and the first half of the year. Our Q2 and year-to-date revenues were each up 35% at a constant FX rate. We also continue to have 2 of the top 5 console franchises year-to-date in Skylanders and Call of Duty, and 3 of the top 5 next-gen games, life-to-date, including the number one slot.,This revenue performance is due to our proven ability to create great games that turn into beloved long-term franchises. In recent years we have methodically and effectively expanded our portfolio to now include three innovative and industry-leading franchises, each of which gamers enjoy playing year-round. As a result, our monthly active users are up by more than 25% in Q2 year-over-year and each of these franchises contributed significantly to our overperformance year-to-date.,Let me share some specifics by franchise, starting with Call of Duty. In Q2, revenue was up by double-digit percentage year-over-year due to strong sell-through on Advanced Warfare, strong momentum in digital monetization as well as strong sell-through on catalog titles. I want to highlight Advanced Warfare's strong season of digital content in particular. Season pass, DLC, microtransaction, and average revenue per user have all grown year-over-year.,As we said on our last call, we introduced a new digital consumable mechanic called supply drops to which players have responded very positively. We maintained our already high engagement levels while monetization of that engagement significantly grew. We believe this approach will allow our average revenue per user to continue to grow in future years driving higher margins as more revenue is delivered digitally.,Which brings me to Call of Duty: Black Ops III, the November release from our award winning studio, Treyarch. In June, we provided the public with hands-on multiplayer at E3 for the first time in Call of Duty's history, and the response is overwhelmingly positive. In fact, since E3, the number of Black Ops II monthly active users has risen to over 11 million players, which is unprecedented in a game that's nearly three-years-old and particularly one that is only available on old generation systems.,We're also attracting new consumers into the Black Ops universe, with catalog sales of both Black Ops I and Black Ops II up significantly in North America for the first half of the year. Then at Comic-Con in July, we unveiled the Black Ops III Zombies mode, and again the fan reception was great. Their excitement was driven not only by the Zombies mode itself, but also by fans' realization of just how deep this game is going to be. Black Ops III will have three incredible play modes: campaign, multiplayer, and zombies inside one game. Each mode has its own sticky progression system, and we will offer a full season of follow on content to keep players engaged.,We couldn't be more excited for Call of Duty fans to experience Black Ops III multiplayer and that's why for anyone who pre-orders we're holding our first public beta in years starting in August. We can't wait for fans to play the game and provide feedback to help us make it even better at launch in November. We're also planning our most robust and expansive season of eSports for Call of Duty ever, and we'll have more details on that in the future.,On to Call of Duty Online, which is in open beta in China. As I've said before, this is a game that will take time to ramp and early signs on core player engagement are encouraging. In the last week of July, we launched a significant content and feature update and Tencent kicked off a marketing campaign to support new player acquisition. While it's too early to know, initial engagement trends after the update are positive, and we'll have more to share in future quarters.,Turning now to Destiny. In May, we along with our partners at Bungie released the highly acclaimed second expansion pack, House of Wolves. The percentage of Destiny players who have bought both expansion packs is the highest we have ever seen for any Activision Publishing game. Moreover, engagement of the game's millions of active users actually increased after we released House of Wolves, which is impressive for a game 10 months after its launch.,Destiny now has over 20 million registered players with an average of about 100 hours of gameplay each, showing great momentum as we head into our fall release. On September 15 comes the largest update to the Destiny universe yet, a mega expansion called The Taken King. We revealed The Taken King at E3, highlighting the all new campaign, subclasses, and brand new destination, and gaming reception was incredible.,For those who already own Destiny and both expansion packs, they can buy The Taken King for a suggested retail price of $40. For those who are new to the Destiny universe, we'll offer The Legendary Edition, which includes the original Destiny game, both expansion packs thus far, and all of the content in The Taken King for a suggested retail price of just $60. This obviously provides new players with a great value, but it's also the right thing to do for our community, as it will help us keep as many players as possible playing together in the same universe of content.,Onto Skylanders, the industry's top performing console franchise and title for the year so far. Despite the increasingly competitive toys-to-life category, we've maintained our leadership position, grown user engagement, and average revenue per user, and outsold all other action figure lines year-to-date.,Before we get to this year's release for Skylanders, let's take a step back and look at the toys-for-life category overall. As you know, this is a genre we created and had led ever since, transforming the way kids interact with toys in the process. Despite an ever increasing list of competitors and with strong characters from other mediums, we feel we are best positioned to continue to lead this category for one reason. We've delivered and will continue to deliver the best games with the biggest innovations. Games are at the heart of what we do and games are also at the heart of this genre since compelling gameplay is the way to drive toy sales.,This year's fall release, Skylanders SuperChargers, which we plan to launch on September 20 in North America and September 25 in Europe, will bring both action figures and vehicles to life for the first time, allowing our fans to drive, fly, and captain their way across land, air, and sea. This innovation increases the size of the pie, which will now include both action figures where consumers spent about $2.5 billion each year, and vehicle toys where consumers spend about $3.3 billion each year in North America and Europe alone.,Our proven ability to create great games in this space is what led to our unprecedented partnership with Nintendo to bring Donkey Kong and Bowser into Skylanders SuperChargers. As we had last year, the full game will be available on tablet, one of the world's fastest growing gaming platforms. We're also in development on a new mobile initiative for the Skylanders franchise and look forward to telling you more about it next week.,Finally Guitar Hero. As I said on our last call, Guitar Hero's brand affinity and name recognition are amongst the highest in our industry which gives us a strong platform from which to re-launch the brand. But neither we nor our fans would be content if we had simply repackaged an upgraded version of an old game. Guitar Hero Live is entirely new and the result of many years of meaningful creative innovation. It is one game with two ways to play: GH Live, which lets fans rock real crowds with real reactions, making you feel more like a rock star than ever before, and GHTV, which is the world's first playable music video network with hundreds of songs and a continual stream of new content to keep our players engaged. At E3, we gave the media a chance to play GHTV for the first time, and the response could not have been better. Our partners are equally excited, and retailers are allocating shelf space to us at multiples to what they are allocating to our competitors. And we'll have more music and promotional partnerships to announce as we get closer to launch, which we plan for October 20.,So, to close, Activision Publishing has had a great first half of the year built on innovative games that engage our passionate fans. The stage is set for a great second half as well, with major innovations across the portfolio, including Call of Duty: Black Ops III, Destiny, The Taken King, Skylanders SuperChargers, and Guitar Hero Live. We look forward to sharing more details with you at gamescom later this week.,Now I'll turn over the call to Mike to talk about Blizzard.,Michael Morhaime - Chief Executive Officer of Blizzard Entertainment, Activision Blizzard, Inc.,Thank you, Eric. Blizzard had another strong quarter in Q2, with multiple releases and more activity on more platforms than in any previous quarter. This new content led to incredible engagement across our player base. Monthly active users, the number of players who log into a game each month in the quarter, summed across our entire portfolio is a good indicator of the health of the Blizzard community.,In Q2 the average MAU across Blizzard games was up more than 50% year-over-year, achieving its highest level ever. Moreover Battle.net ended the quarter at an all-time high for active accounts. Again, up double digits percentage-wise year-over-year. These important metrics reflect the strength of our portfolio with many more people around the world playing more Blizzard games than ever before.,On the World of Warcraft front, in late June we launched one of our biggest non-expansion content updates ever, Patch 6.2, Fury of Hellfire. It added a new zone for players to explore, a new raid, and much more. This helped stabilize the subscriber base in the last part of the quarter. We're currently at work on a much anticipated update for the game that will bring flying to Draenor, add a new player versus player matchmaking feature and more. In addition, we're going to have exciting news at gamescom this week. We'll be announcing the next expansion for World of Warcraft.,We've been listening closely to our players about their experience with Warlords of Draenor, and we think they'll be really excited when they hear our plans. You can tune into the announcement through the Battle.net desktop app or the World of Warcraft website.,Hearthstone had a very good quarter, with multiple releases in quick succession. We launched the Blackrock Mountain adventure at the beginning of the quarter followed by the release of Hearthstone on mobile phones. We also added a popular new game mode called Tavern Brawl, which gives players a different way to play each week, for example, playing as a legendary monster from the game complete with a customized deck.,As a result of the new platform and all the new content, engagement for Hearthstone which was already very strong, nearly doubled year-over-year in terms of active players and time spent. The game continues to perform well in all major regions and remains a top viewed title on Twitch. We recently announced our new card expansion, The Grand Tournament. Like our first expansion, Goblins vs Gnomes, The Grand Tournament will add new game mechanics and a ton of new cards that will have an impact on how Hearthstone is played, which ultimately supports longer-term engagement. The Grand Tournament is due out this month, and we're already seeing a lot of excitement about it from the community. In addition, like other Blizzard games, Hearthstone has developed into a premier fixture in the competitive gaming scene. That includes our formal tournaments as well as community-driven events. A big example of the latter are fireside gatherings where members of the community post local Hearthstone get-togethers. This year alone the community has already held more than 1,300 fireside gatherings globally. Many of these offer participants a chance to secure a spot in the Hearthstone World Championship competition culminating at BlizzCon. We look forward to seeing which of these players rise up and make a name for themselves and how they fare against the established pro players who have advanced through our official tournaments.,Heroes of the Storm also had an exciting quarter with the team making solid progress in driving engagement. Following the June 2 game launch, the critical reception has been enthusiastic with many outlets giving Heroes of the Storm high marks for its innovations, accessibility, and depth. We've also seen consistently positive commentary from players and that's only increased as more try the game. One of the strengths of Heroes of the Storm is the fact that it draws on content from all of our franchises, giving our players familiar touch points in the game regardless of their familiarity with the genre. At the end of June, we started a series of updates that brought popular characters from Diablo, such as The Butcher and King Leoric, and the new Diablo-themed battleground, the Battlefield of Eternity to the game. Players have really enjoyed this event, which we're calling the Eternal Conflict, and it's still going on, so there is more to come.,We plan to continue a rapid cadence of Heroes of the Storm updates for the foreseeable future. This will constantly give players new character and strategy options which will support the game's long-term appeal. Heroes of the Storm eSports is another avenue for engagement and growth of our audience. We kicked off the collegiate scene in April with Heroes of the Dorm, a March Madness style tournament which culminated in a live finals event on ESPN2 and resulted in a lot of excitement across the Blizzard community. On the professional side, the game has been added to our Road to BlizzCon program and major tournaments are underway globally.,With the total prize pool of $1.2 million in cash and prizes and an opportunity to be crowned world champion at BlizzCon, the stakes are high and the competition has already been amazing. Q2 was also a very good quarter for Diablo III. We launched the game with a free model in China while offering two premium versions at $32 and $64. Despite the availability of the free option, the premium versions achieved record sell-through in China out the gate and it's continuing to perform well there. The take-up of Diablo III in China played a large part in driving Blizzard's record MAU globally, as well as in China specifically, for the quarter. In fact, Blizzard's total revenue in China this quarter reached a record high, driven in large part by the success of Diablo III there, as well as Hearthstone and Heroes of the Storm.,I'm pleased to report that Diablo III as a whole has now sold through over 30 million copies globally. Players around the world are looking forward to the upcoming content patch, which will add the Ruins of the Barbarian City of Secheron for them to explore. It also adds a powerful item called Kanai's Cube which provides endless options for transmitting and upgrading their items. Blizzard gamers have always expected an outstanding level of entertainment from our games, and content updates such as this reflect our commitment to that standard.,Moving on to StarCraft II, the Legacy of the Void beta test continues to go well and we're excited to get the game into players' hands later this year. We recently started offering pre-purchases and as part of that, we're providing beta access along with advanced access to a set of campaign missions, titled Whispers of Oblivion, to anyone who pre-purchases the game. We've seen a lot of anticipation for this final chapter of the trilogy and even higher demand at this point in pre-sales compared to Heart of the Storm.,The Whispers of Oblivion content plus the multiplayer changes have been received very positively. This is gratifying because we're working hard to deliver a worthy finale to an epic story that's now been over 17 years in the making. One of the reasons we feel we can continue to expand our StarCraft II audience is that players no longer need to have the previous entries in the series in order to play Heart of the Storm or Legacy of the Void. This provides a great opportunity for players who might have missed one of the chapters in the trilogy to come back and jump right into the latest content.,We are also excited to bring StarCraft II multiplayer into a whole new era with new play modes and other changes that increase accessibility. One of the new modes, Archon Mode allows two players to team up and share control of an army, making the game even more fun to play with a friend.,We've seen a very enthusiastic response to this mode as well as a lot of anticipation about our other new co-op mode Allied Commanders, which we will be providing more detail about at gamescom.,Looking back at the amount of content we delivered this quarter, and the player response, we're really pleased with the performance and engagement overall. For the second half of the year, we're driving towards the milestones I mentioned in addition to the global beta test for Overwatch. We're particularly excited to carry the momentum from the first half of the year forward to BlizzCon in November, where we will have more to share with our community.,One of the biggest attractions there will be the culmination of this year's Road to BlizzCon eSports tournament, with the global champion for World of Warcraft, StarCraft II, Hearthstone, and Heroes of the Storm being crowned. This will be the most Blizzard eSports competitions ever contained under one roof, and we're really excited to see which of the world's top players make it to the main event and walk away with the grand prizes.,The global Blizzard community is now as big and as vibrant as it's ever been, and we're thrilled to be able to serve players across a wider range of genres and platforms than ever before. Looking across our entire portfolio and all the upcoming content in our pipeline, it's a great time to be a Blizzard gamer. Thank you. And I'll turn the call back to Amrita.,Amrita Ahuja - Sr. Vice President, Investor Relations,Thanks, Mike. Operator, we'll now take a few questions.,Question-and-Answer Session,Operator,Certainly. And we'll hear first from Drew Crum with Stifel.,Drew E. Crum - Stifel, Nicolaus & Co., Inc.,Okay. Thanks. Good afternoon, everyone. So on Hearthstone, can you guys discuss the revenue mix you're seeing for the game and what you've observed in terms of monetization on smartphones and whether or not that's led to any cannibalization against PC revenue? Thanks.,Michael Morhaime - Chief Executive Officer of Blizzard Entertainment, Activision Blizzard, Inc.,Thanks for the question. So we don't provide per-platform breakouts, but the launch on phones and the new content that we've recently released combined have led to a step change in Hearthstone's results. We're very pleased to see substantial growth across the board. We saw almost double the amount of active players in time spent year-over-year, and an increase in more than 50% quarter-over-quarter. Revenue on the new platforms appear to be incremental to PC.,Amrita Ahuja - Sr. Vice President, Investor Relations,Operator?,Operator,And we'll now hear from Chris Merwin, Barclays.,Chris Merwin - Barclays Capital, Inc.,Great. Thank you. So I just had a question about eSports. I know this has been an area of focus for you, most recently with some of the new free-to-play titles like Heroes of the Storm, which, Mike, I think you mentioned in your prepared remarks. So could you please just talk about how eSports have helped in terms of driving player engagement and maybe what types of opportunities you see there over time? Thanks.,Robert A. Kotick - President, Chief Executive Officer & Director,Yeah, that's a great question. We've said over the last few years that we see competitive gaming as (32:30) opportunity for the company, and obviously a great way to celebrate our players. The franchises like Hearthstone and Heroes of the Storm and Call of Duty, and then future franchises like Overwatch, are going to be among the most important of all eSports franchises.,From our perspective, if you look at just spectating hours on our franchises, over the last 12 months, spectator hours have jumped to roughly 1.5 billion hours. And we expect that we're really in the first inning of eSports opportunities. So this is an area of great focus and attention and investment across the company and we expect that we'll continue to lead in eSports as we have since the beginning of eSports initiatives.,Chris Merwin - Barclays Capital, Inc.,Great. Thank you.,Operator,Our next question will come from Mike Olson with Piper Jaffray.,Michael J. Olson - Piper Jaffray & Co (Broker),All right, thanks very much. So Activision pioneered the toys-to-life genre, but since then this space has become a bit more crowded with competitors, particularly with bigger brand IP, Disney, Star Wars, Marvel, et cetera, now LEGOs. Just curious about how you're thinking about Skylanders and how it can compete over the next couple of years and beyond to maintain the lead?,Eric Hirshberg - President and Chief Executive Officer, Activision Publishing, Inc.,Sure, I understand the question. It's inarguable that the category has become much more crowded since we invented it a few years ago, but to be fair, we've been being asked some form of this question, how can you hold onto your lead versus competitors that have much better established characters from other mediums, since the – before the launch of the first Disney game. We're now several games past that and we've managed to retain our sizable lead at every step of the way.,We've already shown I think that established characters from other mediums are not the shortcut to leading this category. We believe we will continue to lead the category because we make the best games in the category, we consistently delivered the best innovations in the category, and our characters are built for interactive entertainment. And our creators have no constraints surrounding what those characters can and can't do in a video game. And we believe that's a key competitive advantage as well.,On the category itself, we think that the toys-to-life genre will continue to grow, and more broadly that the idea of physical toys that have digital lives is definitely here to stay. Also thus far, we've only brought one form of toys-to-life with action figures. As I mentioned, with SuperChargers, we bring vehicles to life as well, and vehicle toys are an even bigger category than action figures are. So we're actually expanding the pie and the audience further. So we think the category is going to continue to grow and we're confident that we uniquely have the right strategy and capabilities to continue to lead it.,Michael J. Olson - Piper Jaffray & Co (Broker),All right. Thank you.,Operator,Moving on to Justin Post with Merrill Lynch.,Justin Post - Bank of America Merrill Lynch,Thank you. I'd like to talk a little bit about World of Warcraft. Can you talk more about the kind of subscribers by geography? What's going on in the western markets? Any metrics you can share on players or player hours with that? And I guess you're going to have an expansion pack, but what's your kind of outlook for that franchise? Can you get expansion packs to kind of not ebb and flow or kind of sustain the subscriber levels going forward? Thank you.,Michael Morhaime - Chief Executive Officer of Blizzard Entertainment, Activision Blizzard, Inc.,Hi. Thanks for the question. So we don't disclose that level of detail on subscriber engagement. But, I mean, as with all of our franchises, we think great content is what draws players in, keeps them engaged, and brings them back. That's why we've been continuing to invest in growing the World of Warcraft development team. We have now more developers working on World of Warcraft than ever before. And that's so we can continue to release high-quality content for our community and hopefully increase the pace of which we're releasing that.,The upcoming expansion announcement, I think is a great example, which we're planning to announce later this week at gamescom. Looking back at Warlords of Draenor, we were able to bring back more players than any previous expansion, taking the game back over to 10 million subscribers. So we definitely believe that there's potential to re-engage lapsed players with good new content. We also think that the Warcraft movie is a key inflection point. It's coming out next June. It's a chance to expose the Warcraft franchise's rich lore to new audiences and hopefully increase interest in World of Warcraft overall.,Justin Post - Bank of America Merrill Lynch,Thank you.,Operator,Cowen & Company's Doug Creutz has the next question.,Douglas L. Creutz - Cowen & Co. LLC,Hey, thanks. I was wondering if you could talk a little about what you're seeing in terms of pre-order interest for Call of Duty. Thanks.,Eric Hirshberg - President and Chief Executive Officer, Activision Publishing, Inc.,Sure. First I want to reiterate what we've said a couple of times now in the past which is that, as the world moves more to digital, obviously pre-orders become really just one of the many metrics that we look at to determine momentum. So with that as a backdrop, I'll tell you that year-to-date, we're in fact significantly up on pre-orders with Black Ops III, and we expect Call of Duty to lead the industry in pre-orders again.,But more important to us than that is the wide range of other metrics that we use to look at. And from trailer views to positive sentiment to social media engagements to unaided title awareness to purchase intent, these metrics are all also up year-on-year as well. Also, as I said, we now have over 11 million monthly active users playing Black Ops II, which is unprecedented three years past the release date of one of our titles, and it shows I think a lot of momentum and a lot of hunger for – as we head into the launch of Black Ops III. So we're optimistic.,Douglas L. Creutz - Cowen & Co. LLC,Great. Thanks, Eric.,Operator,We'll now hear from Brian Pitz with Jefferies.,Brian J. Pitz - Jefferies LLC,On Guitar Hero Live, in terms of sales expectations, is there any perspective you could provide for how we should think about this title? And looking at it from a profitability standpoint, how would you expect the game to compare to the overall corporate margin profile? Thanks.,Eric Hirshberg - President and Chief Executive Officer, Activision Publishing, Inc.,Sure, Brian. As I think you know, we don't provide specific forecasts, franchise-by-franchise, but I'll still try to answer the spirit of your question. We know we have a great game that has meaningful innovations, and everyone who's put their hands on it including both critics and fans, loves it.,Guitar Hero Live makes you feel like more like a rock star than ever before, which is a big marketable innovation. But equally important is Guitar Hero TV, which gives us a real long-term engagement strategy on this franchise for the first time. We've learned a lot of lessons here from games like Call of Duty and Destiny, which are that fans appreciate a constant stream of new content, the ability to compete with their friends online, and for the game to constantly reward them for their engagement. So we've designed GHTV with all that in mind. So it's really about more than just how many units we sell. It's also about us driving that long-term engagement. And you know how powerful that can be for our business when we achieve that.,And also we're expanding the addressable audience by making the game available on mobile. And we've made a significant investment in both the product development to make sure we have a great game. And we're making a significant investment in the marketing to make sure that we have a great launch. So those should be two good indicators for you. We believe that this can be a significant contributor to our business in the coming years.,Brian J. Pitz - Jefferies LLC,Great. Thanks.,Operator,Moving on to Eric Handler with MKM Partners.,Eric O. Handler - MKM Partners LLC,Yes. Thanks for taking my question. So recognizing what's still early in the launch, I was hoping you could discuss where you are with the players, and more specifically, the paying players for Heroes of the Storm. Also are there any regions of the world where player engagement is more significant than others and maybe you could draw any similarities, if possible, to what you saw in the early days of the release of Hearthstone?,Michael Morhaime - Chief Executive Officer of Blizzard Entertainment, Activision Blizzard, Inc.,Okay. It's tough to draw any meaningful comparison to Hearthstone just because the pricing model and game players are different. I think I would say that looking at the game's reception performance globally, we're very happy with the reaction and reception around the world. We did just launch the game in June, so you're right, it is still very early. I think if you look at other games in the genre, they all had more gradual growth of their player base so that is what we would expect to see with Heroes of the Storm. We think that, in this genre eSports is a big driver, and we've already started with our major eSports initiatives underway with our Road to BlizzCon, and so we would expect that eSports will continue to be a driver for us in terms of engagement and growth of the game.,So right out the gate, we're very pleased with the positive reception from players and press. We're going to continue evolving the game, adding content on a frequent cadence, and we think we're well on the way towards Heroes becoming another key pillar in the portfolio.,Eric O. Handler - MKM Partners LLC,Thanks a lot.,Operator,Ladies and gentlemen, we have time for one additional question from Colin Sebastian with Robert Baird.,Colin A. Sebastian - Robert W. Baird & Co., Inc. (Broker),Hi. Thanks for taking the question and congrats on the quarter. Eric, on Destiny, you mentioned the engagement being very high with the game and pre-orders for the expansion seem to be quite strong as well. Can you help us, by putting into perspective how large this expansion could be relative to a typical games expansion pack and if you can compare the amount of content that comes in a certain game versus other packs? Thank you.,Eric Hirshberg - President and Chief Executive Officer, Activision Publishing, Inc.,Sure, Colin. It's hard to compare to other games expansion packs with Destiny in such an unusual game, but the short answer is compared to our own past expansion packs, it's significantly bigger than the other expansion packs we've had, but still smaller than an entirely new game. We're calling it a mega expansion for a reason. But that's just The Taken King and I want to emphasize that equally significant to our plans for Q4 is the legendary edition, which includes the original game, both the expansion packs thus far and The Taken King, and it's just $60. So this probably represents the most game play you can get for $60 anywhere in the industry this holiday and we're doing that very deliberately because – both because we want to bring in new fans and it's a great value for them, but it's also the right thing to do for the community, because it's a shared world game and we want to keep the largest number of players possible playing together with the same content, so both strategies are equally important to our launch this Q4.,Colin A. Sebastian - Robert W. Baird & Co., Inc. (Broker),Okay. And then maybe as a quick follow-up, obviously, a nice beat on digital revenue side. Can you talk a little bit more about trends on the digital side of the business and how we should expect that to track over the remainder of the year? Thanks.,Michael Morhaime - Chief Executive Officer of Blizzard Entertainment, Activision Blizzard, Inc.,Sure. Thanks, Colin. Thanks for the question. Yeah, obviously digital was a great – we had great momentum on digital in the first half of the year and we expect, obviously when you look forward for the first time, more than 50% of the company's sales will come through digital channels this year which is an important milestone and obviously with a great digital growth of 27% in Q2. We're well on our way of achieving that. There's a couple of buckets in terms of that that are really important. The first is obviously full game downloads, where on the Blizzard side of the business we already see most of – the majority of that volume being digital. Now we are starting to see on the console side more of our AAA share moving digitally. We've seen high teens in the past and that can sometimes spike in weeks depending upon how deep a title is in its catalog lifespan. So that's growing very, very nicely and we expect that to continue to grow this holiday.,But, another important area for us, in that you really see reflected in our results so far this year is digital add-on content sales. So think of that as content and services that we sell to our players once they're already playing one of our games. And these are things like advanced supply drops or map packs in Call of Duty, or card packs in – or tokens in Hearthstone or paid character boost in World of Warcraft. And our teams are getting more and more creative about finding ways to use these tools to drive further engagement. And this is actually the largest and fastest growing segment of our digital business, which had sales in this area growing at over 56% year-over-year or 73% at constant currency, so very, very strong momentum there. And we think that these add-on content sales are super important, because they provide not only opportunities for ARPU expansion and nice margins, but can expand and deepen gameplay and engagement with all player base, so overall strong trends of momentum for this and heading into the back half of the year.,Colin A. Sebastian - Robert W. Baird & Co., Inc. (Broker),Great. Thank you.,Michael Morhaime - Chief Executive Officer of Blizzard Entertainment, Activision Blizzard, Inc.,Thanks, Colin.,Operator,And, again...,Amrita Ahuja - Sr. Vice President, Investor Relations,Operator...?,Operator,I turn it back to the speakers for closing or additional remarks.,Amrita Ahuja - Sr. Vice President, Investor Relations,Thank you very much, everyone for joining the call.,Robert A. Kotick - President, Chief Executive Officer & Director,Thank you.,Operator,And, again, ladies and gentlemen that does conclude our conference for today. We thank you all for your participation.,THE INFORMATION CONTAINED HERE IS A TEXTUAL REPRESENTATION OF THE APPLICABLE COMPANY'S CONFERENCE CALL, CONFERENCE PRESENTATION OR OTHER AUDIO PRESENTATION, AND WHILE EFFORTS ARE MADE TO PROVIDE AN ACCURATE TRANSCRIPTION, THERE MAY BE MATERIAL ERRORS, OMISSIONS, OR INACCURACIES IN THE REPORTING OF THE SUBSTANCE OF THE AUDIO PRESENTATIONS. IN NO WAY DOES SEEKING ALPHA ASSUME ANY RESPONSIBILITY FOR ANY INVESTMENT OR OTHER DECISIONS MADE BASED UPON THE INFORMATION PROVIDED ON THIS WEB SITE OR IN ANY TRANSCRIPT. USERS ARE ADVISED TO REVIEW THE APPLICABLE COMPANY'S AUDIO PRESENTATION ITSELF AND THE APPLICABLE COMPANY'S SEC FILINGS BEFORE MAKING ANY INVESTMENT OR OTHER DECISIONS.\n"
     ]
    },
    {
     "name": "stderr",
     "output_type": "stream",
     "text": [
      "/usr/local/lib/python2.7/dist-packages/ipykernel_launcher.py:1: DeprecationWarning: \n",
      ".ix is deprecated. Please use\n",
      ".loc for label based indexing or\n",
      ".iloc for positional indexing\n",
      "\n",
      "See the documentation here:\n",
      "http://pandas.pydata.org/pandas-docs/stable/indexing.html#deprecate_ix\n",
      "  \"\"\"Entry point for launching an IPython kernel.\n"
     ]
    }
   ],
   "source": [
    "print df['Train'].ix[50]"
   ]
  },
  {
   "cell_type": "code",
   "execution_count": 139,
   "metadata": {},
   "outputs": [
    {
     "name": "stderr",
     "output_type": "stream",
     "text": [
      "/usr/local/lib/python2.7/dist-packages/ipykernel_launcher.py:1: UserWarning: This pattern has match groups. To actually get the groups, use str.extract.\n",
      "  \"\"\"Entry point for launching an IPython kernel.\n"
     ]
    }
   ],
   "source": [
    "df['Classifier'] = df['Labels'].str.contains('Revenue of (.*) <span class=\"green\">')"
   ]
  },
  {
   "cell_type": "code",
   "execution_count": 140,
   "metadata": {},
   "outputs": [],
   "source": [
    "def extract_quarter(train):\n",
    "    train = str(train)\n",
    "    if train[0] == 'Q':\n",
    "        if train[3] == '2':            \n",
    "            return train[0:7]\n",
    "        else:\n",
    "            return train[0:3]+ '2' + train[3:6]\n",
    "    elif train[0] == 'F' and train[2] == 'Q':\n",
    "        return 'Q' + train[1] + ' ' + train[4:8]\n",
    "    else:\n",
    "        return train[0:20]\n",
    "    \n",
    "df[\"Current\"] = df.Train.apply(extract_quarter)\n",
    "\n",
    "def create_next_quarter(current):\n",
    "    try:\n",
    "        current = current.split(' ')\n",
    "        if current[0] == 'Q4':\n",
    "            return 'Q1 ' + str(int(current[1])+1)\n",
    "        else:\n",
    "            return 'Q'+ str(int(current[0][1])+1) + \" \" + str(current[1])\n",
    "    except:\n",
    "        return ''\n",
    "    \n",
    "df.Current.apply(create_next_quarter)\n",
    "\n",
    "df['Next'] = df.Current.apply(create_next_quarter)\n",
    "\n"
   ]
  },
  {
   "cell_type": "code",
   "execution_count": 141,
   "metadata": {},
   "outputs": [
    {
     "data": {
      "text/plain": [
       "Q2 2017    481\n",
       "Q4 2016    473\n",
       "Q1 2017    471\n",
       "Q2 2016    465\n",
       "Q3 2016    465\n",
       "Q1 2016    454\n",
       "Q4 2015    445\n",
       "Q3 2015    436\n",
       "Q2 2015    419\n",
       "Q1 2015    387\n",
       "Q4 2014    323\n",
       "Q3 2014    262\n",
       "Q2 2014    191\n",
       "Q1 2014    143\n",
       "Q3 2017    101\n",
       "Q4 2013     99\n",
       "Q3 2013     66\n",
       "Q4 2017     61\n",
       "Q2 2013     46\n",
       "Q1 2018     31\n",
       "Q1 2013     27\n",
       "Q4 2012     15\n",
       "Q2 2018      7\n",
       "Q3 2012      6\n",
       "Q1 2012      3\n",
       "Q2 2011      3\n",
       "Q3 2011      1\n",
       "Q1 2011      1\n",
       "Q2 2012      1\n",
       "Q4 2011      1\n",
       "Name: Next, dtype: int64"
      ]
     },
     "execution_count": 141,
     "metadata": {},
     "output_type": "execute_result"
    }
   ],
   "source": [
    "df.Next.str[0:8].value_counts()"
   ]
  },
  {
   "cell_type": "code",
   "execution_count": 142,
   "metadata": {},
   "outputs": [],
   "source": [
    "dfwithjoins = pd.merge(left= df, right=df, left_on=['Ticker','Current'], right_on=['Ticker','Next'])"
   ]
  },
  {
   "cell_type": "code",
   "execution_count": null,
   "metadata": {},
   "outputs": [],
   "source": []
  },
  {
   "cell_type": "code",
   "execution_count": null,
   "metadata": {},
   "outputs": [],
   "source": []
  },
  {
   "cell_type": "code",
   "execution_count": null,
   "metadata": {},
   "outputs": [],
   "source": [
    "\n",
    "    "
   ]
  },
  {
   "cell_type": "code",
   "execution_count": null,
   "metadata": {},
   "outputs": [],
   "source": []
  },
  {
   "cell_type": "code",
   "execution_count": null,
   "metadata": {
    "collapsed": true
   },
   "outputs": [],
   "source": []
  },
  {
   "cell_type": "code",
   "execution_count": null,
   "metadata": {
    "collapsed": true
   },
   "outputs": [],
   "source": []
  },
  {
   "cell_type": "code",
   "execution_count": 143,
   "metadata": {},
   "outputs": [
    {
     "data": {
      "text/html": [
       "<div>\n",
       "<style>\n",
       "    .dataframe thead tr:only-child th {\n",
       "        text-align: right;\n",
       "    }\n",
       "\n",
       "    .dataframe thead th {\n",
       "        text-align: left;\n",
       "    }\n",
       "\n",
       "    .dataframe tbody tr th {\n",
       "        vertical-align: top;\n",
       "    }\n",
       "</style>\n",
       "<table border=\"1\" class=\"dataframe\">\n",
       "  <thead>\n",
       "    <tr style=\"text-align: right;\">\n",
       "      <th></th>\n",
       "      <th>Ticker</th>\n",
       "      <th>Link_x</th>\n",
       "      <th>Labels_x</th>\n",
       "      <th>Train_x</th>\n",
       "      <th>Classifier_x</th>\n",
       "      <th>Current_x</th>\n",
       "      <th>Next_x</th>\n",
       "      <th>Link_y</th>\n",
       "      <th>Labels_y</th>\n",
       "      <th>Train_y</th>\n",
       "      <th>Classifier_y</th>\n",
       "      <th>Current_y</th>\n",
       "      <th>Next_y</th>\n",
       "    </tr>\n",
       "  </thead>\n",
       "  <tbody>\n",
       "    <tr>\n",
       "      <th>0</th>\n",
       "      <td>MMM</td>\n",
       "      <td>https://seekingalpha.com/article/4065316-3m-mm...</td>\n",
       "      <td>[&lt;div class=\"data-line\"&gt;\\n&lt;div&gt;EPS of $2.16 &lt;s...</td>\n",
       "      <td>Q1 2017 Earnings Call,April 25, 2017 9:00 am E...</td>\n",
       "      <td>True</td>\n",
       "      <td>Q1 2017</td>\n",
       "      <td>Q2 2017</td>\n",
       "      <td>https://seekingalpha.com/article/4039094-3ms-m...</td>\n",
       "      <td>[&lt;div class=\"data-line\"&gt;\\n&lt;div&gt;EPS of $1.88 &lt;s...</td>\n",
       "      <td>Q4 2016 Earnings Conference Call,January 24, 2...</td>\n",
       "      <td>False</td>\n",
       "      <td>Q4 2016</td>\n",
       "      <td>Q1 2017</td>\n",
       "    </tr>\n",
       "    <tr>\n",
       "      <th>1</th>\n",
       "      <td>MMM</td>\n",
       "      <td>https://seekingalpha.com/article/4039094-3ms-m...</td>\n",
       "      <td>[&lt;div class=\"data-line\"&gt;\\n&lt;div&gt;EPS of $1.88 &lt;s...</td>\n",
       "      <td>Q4 2016 Earnings Conference Call,January 24, 2...</td>\n",
       "      <td>False</td>\n",
       "      <td>Q4 2016</td>\n",
       "      <td>Q1 2017</td>\n",
       "      <td>https://seekingalpha.com/article/4014723-3m-mm...</td>\n",
       "      <td>[&lt;div class=\"data-line\"&gt;\\n&lt;div&gt;EPS of $2.15 &lt;s...</td>\n",
       "      <td>Q3 2016 Earnings Call,October 25, 2016 9:00 am...</td>\n",
       "      <td>False</td>\n",
       "      <td>Q3 2016</td>\n",
       "      <td>Q4 2016</td>\n",
       "    </tr>\n",
       "    <tr>\n",
       "      <th>2</th>\n",
       "      <td>MMM</td>\n",
       "      <td>https://seekingalpha.com/article/4014723-3m-mm...</td>\n",
       "      <td>[&lt;div class=\"data-line\"&gt;\\n&lt;div&gt;EPS of $2.15 &lt;s...</td>\n",
       "      <td>Q3 2016 Earnings Call,October 25, 2016 9:00 am...</td>\n",
       "      <td>False</td>\n",
       "      <td>Q3 2016</td>\n",
       "      <td>Q4 2016</td>\n",
       "      <td>https://seekingalpha.com/article/3991631-3m-mm...</td>\n",
       "      <td>[&lt;div class=\"data-line\"&gt;\\n&lt;div&gt;EPS of $2.08 &lt;s...</td>\n",
       "      <td>Q2 2016 Earnings Call,July 26, 2016 9:00 am ET...</td>\n",
       "      <td>False</td>\n",
       "      <td>Q2 2016</td>\n",
       "      <td>Q3 2016</td>\n",
       "    </tr>\n",
       "    <tr>\n",
       "      <th>3</th>\n",
       "      <td>MMM</td>\n",
       "      <td>https://seekingalpha.com/article/3991631-3m-mm...</td>\n",
       "      <td>[&lt;div class=\"data-line\"&gt;\\n&lt;div&gt;EPS of $2.08 &lt;s...</td>\n",
       "      <td>Q2 2016 Earnings Call,July 26, 2016 9:00 am ET...</td>\n",
       "      <td>False</td>\n",
       "      <td>Q2 2016</td>\n",
       "      <td>Q3 2016</td>\n",
       "      <td>https://seekingalpha.com/article/3968135-3ms-m...</td>\n",
       "      <td>[&lt;div class=\"data-line\"&gt;\\n&lt;div&gt;EPS of $2.05 &lt;s...</td>\n",
       "      <td>Q1 2016 Earnings Conference Call,April 26, 201...</td>\n",
       "      <td>True</td>\n",
       "      <td>Q1 2016</td>\n",
       "      <td>Q2 2016</td>\n",
       "    </tr>\n",
       "    <tr>\n",
       "      <th>4</th>\n",
       "      <td>ABT</td>\n",
       "      <td>https://seekingalpha.com/article/4063446-abbot...</td>\n",
       "      <td>[&lt;div class=\"data-line\"&gt;\\n&lt;div&gt;EPS of $0.48 &lt;s...</td>\n",
       "      <td>Q1 2017 Earnings Conference Call,April 19, 201...</td>\n",
       "      <td>True</td>\n",
       "      <td>Q1 2017</td>\n",
       "      <td>Q2 2017</td>\n",
       "      <td>https://seekingalpha.com/article/4039377-abbot...</td>\n",
       "      <td>[&lt;div class=\"data-line\"&gt;\\n&lt;div&gt;EPS of $0.65 &lt;s...</td>\n",
       "      <td>Q4 2016 Earnings Conference Call,January 25, 2...</td>\n",
       "      <td>False</td>\n",
       "      <td>Q4 2016</td>\n",
       "      <td>Q1 2017</td>\n",
       "    </tr>\n",
       "  </tbody>\n",
       "</table>\n",
       "</div>"
      ],
      "text/plain": [
       "  Ticker                                             Link_x  \\\n",
       "0    MMM  https://seekingalpha.com/article/4065316-3m-mm...   \n",
       "1    MMM  https://seekingalpha.com/article/4039094-3ms-m...   \n",
       "2    MMM  https://seekingalpha.com/article/4014723-3m-mm...   \n",
       "3    MMM  https://seekingalpha.com/article/3991631-3m-mm...   \n",
       "4    ABT  https://seekingalpha.com/article/4063446-abbot...   \n",
       "\n",
       "                                            Labels_x  \\\n",
       "0  [<div class=\"data-line\">\\n<div>EPS of $2.16 <s...   \n",
       "1  [<div class=\"data-line\">\\n<div>EPS of $1.88 <s...   \n",
       "2  [<div class=\"data-line\">\\n<div>EPS of $2.15 <s...   \n",
       "3  [<div class=\"data-line\">\\n<div>EPS of $2.08 <s...   \n",
       "4  [<div class=\"data-line\">\\n<div>EPS of $0.48 <s...   \n",
       "\n",
       "                                             Train_x  Classifier_x Current_x  \\\n",
       "0  Q1 2017 Earnings Call,April 25, 2017 9:00 am E...          True   Q1 2017   \n",
       "1  Q4 2016 Earnings Conference Call,January 24, 2...         False   Q4 2016   \n",
       "2  Q3 2016 Earnings Call,October 25, 2016 9:00 am...         False   Q3 2016   \n",
       "3  Q2 2016 Earnings Call,July 26, 2016 9:00 am ET...         False   Q2 2016   \n",
       "4  Q1 2017 Earnings Conference Call,April 19, 201...          True   Q1 2017   \n",
       "\n",
       "    Next_x                                             Link_y  \\\n",
       "0  Q2 2017  https://seekingalpha.com/article/4039094-3ms-m...   \n",
       "1  Q1 2017  https://seekingalpha.com/article/4014723-3m-mm...   \n",
       "2  Q4 2016  https://seekingalpha.com/article/3991631-3m-mm...   \n",
       "3  Q3 2016  https://seekingalpha.com/article/3968135-3ms-m...   \n",
       "4  Q2 2017  https://seekingalpha.com/article/4039377-abbot...   \n",
       "\n",
       "                                            Labels_y  \\\n",
       "0  [<div class=\"data-line\">\\n<div>EPS of $1.88 <s...   \n",
       "1  [<div class=\"data-line\">\\n<div>EPS of $2.15 <s...   \n",
       "2  [<div class=\"data-line\">\\n<div>EPS of $2.08 <s...   \n",
       "3  [<div class=\"data-line\">\\n<div>EPS of $2.05 <s...   \n",
       "4  [<div class=\"data-line\">\\n<div>EPS of $0.65 <s...   \n",
       "\n",
       "                                             Train_y  Classifier_y Current_y  \\\n",
       "0  Q4 2016 Earnings Conference Call,January 24, 2...         False   Q4 2016   \n",
       "1  Q3 2016 Earnings Call,October 25, 2016 9:00 am...         False   Q3 2016   \n",
       "2  Q2 2016 Earnings Call,July 26, 2016 9:00 am ET...         False   Q2 2016   \n",
       "3  Q1 2016 Earnings Conference Call,April 26, 201...          True   Q1 2016   \n",
       "4  Q4 2016 Earnings Conference Call,January 25, 2...         False   Q4 2016   \n",
       "\n",
       "    Next_y  \n",
       "0  Q1 2017  \n",
       "1  Q4 2016  \n",
       "2  Q3 2016  \n",
       "3  Q2 2016  \n",
       "4  Q1 2017  "
      ]
     },
     "execution_count": 143,
     "metadata": {},
     "output_type": "execute_result"
    }
   ],
   "source": [
    "dfwithjoins.head()"
   ]
  },
  {
   "cell_type": "code",
   "execution_count": 144,
   "metadata": {
    "collapsed": true
   },
   "outputs": [],
   "source": [
    "dfwithjoins.to_csv('finaldata.txt', sep='\\t', index=False)"
   ]
  },
  {
   "cell_type": "code",
   "execution_count": 145,
   "metadata": {
    "collapsed": true
   },
   "outputs": [],
   "source": [
    "dfwithjoins['Train_y'].to_csv('modeltrain.txt', sep='\\t', index=False)"
   ]
  },
  {
   "cell_type": "code",
   "execution_count": 146,
   "metadata": {
    "collapsed": true
   },
   "outputs": [],
   "source": [
    "dfwithjoins['Classifier_x'].to_csv('modelclassifier.txt', sep='\\t', index=False)"
   ]
  },
  {
   "cell_type": "code",
   "execution_count": 147,
   "metadata": {},
   "outputs": [
    {
     "name": "stderr",
     "output_type": "stream",
     "text": [
      "/usr/local/lib/python2.7/dist-packages/ipykernel_launcher.py:1: DeprecationWarning: \n",
      ".ix is deprecated. Please use\n",
      ".loc for label based indexing or\n",
      ".iloc for positional indexing\n",
      "\n",
      "See the documentation here:\n",
      "http://pandas.pydata.org/pandas-docs/stable/indexing.html#deprecate_ix\n",
      "  \"\"\"Entry point for launching an IPython kernel.\n"
     ]
    },
    {
     "data": {
      "text/plain": [
       "Ticker                                                       ATVI\n",
       "Link_x          https://seekingalpha.com/article/3150306-activ...\n",
       "Labels_x        [<div class=\"data-line\">\\n<div>EPS of $0.16 <s...\n",
       "Train_x         Q1 2015 Earnings Call,May 06, 2015 4:30 pm ET,...\n",
       "Classifier_x                                                 True\n",
       "Current_x                                                 Q1 2015\n",
       "Next_x                                                    Q2 2015\n",
       "Link_y          https://seekingalpha.com/article/2891046-activ...\n",
       "Labels_y        [<div class=\"data-line\">\\n<div>EPS of $0.94 <s...\n",
       "Train_y         Q4 2014 Earnings Call,February 05, 2015 4:30 p...\n",
       "Classifier_y                                                False\n",
       "Current_y                                                 Q4 2014\n",
       "Next_y                                                    Q1 2015\n",
       "Name: 47, dtype: object"
      ]
     },
     "execution_count": 147,
     "metadata": {},
     "output_type": "execute_result"
    }
   ],
   "source": [
    "dfwithjoins.ix[47]"
   ]
  },
  {
   "cell_type": "code",
   "execution_count": 176,
   "metadata": {},
   "outputs": [
    {
     "data": {
      "text/html": [
       "<div>\n",
       "<style>\n",
       "    .dataframe thead tr:only-child th {\n",
       "        text-align: right;\n",
       "    }\n",
       "\n",
       "    .dataframe thead th {\n",
       "        text-align: left;\n",
       "    }\n",
       "\n",
       "    .dataframe tbody tr th {\n",
       "        vertical-align: top;\n",
       "    }\n",
       "</style>\n",
       "<table border=\"1\" class=\"dataframe\">\n",
       "  <thead>\n",
       "    <tr style=\"text-align: right;\">\n",
       "      <th></th>\n",
       "      <th>Ticker</th>\n",
       "      <th>Link_x</th>\n",
       "      <th>Labels_x</th>\n",
       "      <th>Train_x</th>\n",
       "      <th>Classifier_x</th>\n",
       "      <th>Current_x</th>\n",
       "      <th>Next_x</th>\n",
       "      <th>Link_y</th>\n",
       "      <th>Labels_y</th>\n",
       "      <th>Train_y</th>\n",
       "      <th>Classifier_y</th>\n",
       "      <th>Current_y</th>\n",
       "      <th>Next_y</th>\n",
       "    </tr>\n",
       "  </thead>\n",
       "  <tbody>\n",
       "    <tr>\n",
       "      <th>0</th>\n",
       "      <td>MMM</td>\n",
       "      <td>https://seekingalpha.com/article/4065316-3m-mm...</td>\n",
       "      <td>[&lt;div class=\"data-line\"&gt;\\n&lt;div&gt;EPS of $2.16 &lt;s...</td>\n",
       "      <td>Q1 2017 Earnings Call,April 25, 2017 9:00 am E...</td>\n",
       "      <td>True</td>\n",
       "      <td>Q1 2017</td>\n",
       "      <td>Q2 2017</td>\n",
       "      <td>https://seekingalpha.com/article/4039094-3ms-m...</td>\n",
       "      <td>[&lt;div class=\"data-line\"&gt;\\n&lt;div&gt;EPS of $1.88 &lt;s...</td>\n",
       "      <td>Q4 2016 Earnings Conference Call,January 24, 2...</td>\n",
       "      <td>False</td>\n",
       "      <td>Q4 2016</td>\n",
       "      <td>Q1 2017</td>\n",
       "    </tr>\n",
       "    <tr>\n",
       "      <th>1</th>\n",
       "      <td>MMM</td>\n",
       "      <td>https://seekingalpha.com/article/4039094-3ms-m...</td>\n",
       "      <td>[&lt;div class=\"data-line\"&gt;\\n&lt;div&gt;EPS of $1.88 &lt;s...</td>\n",
       "      <td>Q4 2016 Earnings Conference Call,January 24, 2...</td>\n",
       "      <td>False</td>\n",
       "      <td>Q4 2016</td>\n",
       "      <td>Q1 2017</td>\n",
       "      <td>https://seekingalpha.com/article/4014723-3m-mm...</td>\n",
       "      <td>[&lt;div class=\"data-line\"&gt;\\n&lt;div&gt;EPS of $2.15 &lt;s...</td>\n",
       "      <td>Q3 2016 Earnings Call,October 25, 2016 9:00 am...</td>\n",
       "      <td>False</td>\n",
       "      <td>Q3 2016</td>\n",
       "      <td>Q4 2016</td>\n",
       "    </tr>\n",
       "    <tr>\n",
       "      <th>2</th>\n",
       "      <td>MMM</td>\n",
       "      <td>https://seekingalpha.com/article/4014723-3m-mm...</td>\n",
       "      <td>[&lt;div class=\"data-line\"&gt;\\n&lt;div&gt;EPS of $2.15 &lt;s...</td>\n",
       "      <td>Q3 2016 Earnings Call,October 25, 2016 9:00 am...</td>\n",
       "      <td>False</td>\n",
       "      <td>Q3 2016</td>\n",
       "      <td>Q4 2016</td>\n",
       "      <td>https://seekingalpha.com/article/3991631-3m-mm...</td>\n",
       "      <td>[&lt;div class=\"data-line\"&gt;\\n&lt;div&gt;EPS of $2.08 &lt;s...</td>\n",
       "      <td>Q2 2016 Earnings Call,July 26, 2016 9:00 am ET...</td>\n",
       "      <td>False</td>\n",
       "      <td>Q2 2016</td>\n",
       "      <td>Q3 2016</td>\n",
       "    </tr>\n",
       "    <tr>\n",
       "      <th>3</th>\n",
       "      <td>MMM</td>\n",
       "      <td>https://seekingalpha.com/article/3991631-3m-mm...</td>\n",
       "      <td>[&lt;div class=\"data-line\"&gt;\\n&lt;div&gt;EPS of $2.08 &lt;s...</td>\n",
       "      <td>Q2 2016 Earnings Call,July 26, 2016 9:00 am ET...</td>\n",
       "      <td>False</td>\n",
       "      <td>Q2 2016</td>\n",
       "      <td>Q3 2016</td>\n",
       "      <td>https://seekingalpha.com/article/3968135-3ms-m...</td>\n",
       "      <td>[&lt;div class=\"data-line\"&gt;\\n&lt;div&gt;EPS of $2.05 &lt;s...</td>\n",
       "      <td>Q1 2016 Earnings Conference Call,April 26, 201...</td>\n",
       "      <td>True</td>\n",
       "      <td>Q1 2016</td>\n",
       "      <td>Q2 2016</td>\n",
       "    </tr>\n",
       "    <tr>\n",
       "      <th>4</th>\n",
       "      <td>ABT</td>\n",
       "      <td>https://seekingalpha.com/article/4063446-abbot...</td>\n",
       "      <td>[&lt;div class=\"data-line\"&gt;\\n&lt;div&gt;EPS of $0.48 &lt;s...</td>\n",
       "      <td>Q1 2017 Earnings Conference Call,April 19, 201...</td>\n",
       "      <td>True</td>\n",
       "      <td>Q1 2017</td>\n",
       "      <td>Q2 2017</td>\n",
       "      <td>https://seekingalpha.com/article/4039377-abbot...</td>\n",
       "      <td>[&lt;div class=\"data-line\"&gt;\\n&lt;div&gt;EPS of $0.65 &lt;s...</td>\n",
       "      <td>Q4 2016 Earnings Conference Call,January 25, 2...</td>\n",
       "      <td>False</td>\n",
       "      <td>Q4 2016</td>\n",
       "      <td>Q1 2017</td>\n",
       "    </tr>\n",
       "  </tbody>\n",
       "</table>\n",
       "</div>"
      ],
      "text/plain": [
       "  Ticker                                             Link_x  \\\n",
       "0    MMM  https://seekingalpha.com/article/4065316-3m-mm...   \n",
       "1    MMM  https://seekingalpha.com/article/4039094-3ms-m...   \n",
       "2    MMM  https://seekingalpha.com/article/4014723-3m-mm...   \n",
       "3    MMM  https://seekingalpha.com/article/3991631-3m-mm...   \n",
       "4    ABT  https://seekingalpha.com/article/4063446-abbot...   \n",
       "\n",
       "                                            Labels_x  \\\n",
       "0  [<div class=\"data-line\">\\n<div>EPS of $2.16 <s...   \n",
       "1  [<div class=\"data-line\">\\n<div>EPS of $1.88 <s...   \n",
       "2  [<div class=\"data-line\">\\n<div>EPS of $2.15 <s...   \n",
       "3  [<div class=\"data-line\">\\n<div>EPS of $2.08 <s...   \n",
       "4  [<div class=\"data-line\">\\n<div>EPS of $0.48 <s...   \n",
       "\n",
       "                                             Train_x  Classifier_x Current_x  \\\n",
       "0  Q1 2017 Earnings Call,April 25, 2017 9:00 am E...          True   Q1 2017   \n",
       "1  Q4 2016 Earnings Conference Call,January 24, 2...         False   Q4 2016   \n",
       "2  Q3 2016 Earnings Call,October 25, 2016 9:00 am...         False   Q3 2016   \n",
       "3  Q2 2016 Earnings Call,July 26, 2016 9:00 am ET...         False   Q2 2016   \n",
       "4  Q1 2017 Earnings Conference Call,April 19, 201...          True   Q1 2017   \n",
       "\n",
       "    Next_x                                             Link_y  \\\n",
       "0  Q2 2017  https://seekingalpha.com/article/4039094-3ms-m...   \n",
       "1  Q1 2017  https://seekingalpha.com/article/4014723-3m-mm...   \n",
       "2  Q4 2016  https://seekingalpha.com/article/3991631-3m-mm...   \n",
       "3  Q3 2016  https://seekingalpha.com/article/3968135-3ms-m...   \n",
       "4  Q2 2017  https://seekingalpha.com/article/4039377-abbot...   \n",
       "\n",
       "                                            Labels_y  \\\n",
       "0  [<div class=\"data-line\">\\n<div>EPS of $1.88 <s...   \n",
       "1  [<div class=\"data-line\">\\n<div>EPS of $2.15 <s...   \n",
       "2  [<div class=\"data-line\">\\n<div>EPS of $2.08 <s...   \n",
       "3  [<div class=\"data-line\">\\n<div>EPS of $2.05 <s...   \n",
       "4  [<div class=\"data-line\">\\n<div>EPS of $0.65 <s...   \n",
       "\n",
       "                                             Train_y  Classifier_y Current_y  \\\n",
       "0  Q4 2016 Earnings Conference Call,January 24, 2...         False   Q4 2016   \n",
       "1  Q3 2016 Earnings Call,October 25, 2016 9:00 am...         False   Q3 2016   \n",
       "2  Q2 2016 Earnings Call,July 26, 2016 9:00 am ET...         False   Q2 2016   \n",
       "3  Q1 2016 Earnings Conference Call,April 26, 201...          True   Q1 2016   \n",
       "4  Q4 2016 Earnings Conference Call,January 25, 2...         False   Q4 2016   \n",
       "\n",
       "    Next_y  \n",
       "0  Q1 2017  \n",
       "1  Q4 2016  \n",
       "2  Q3 2016  \n",
       "3  Q2 2016  \n",
       "4  Q1 2017  "
      ]
     },
     "execution_count": 176,
     "metadata": {},
     "output_type": "execute_result"
    }
   ],
   "source": [
    "dfwithjoins.head()"
   ]
  },
  {
   "cell_type": "code",
   "execution_count": null,
   "metadata": {
    "collapsed": true
   },
   "outputs": [],
   "source": []
  },
  {
   "cell_type": "code",
   "execution_count": null,
   "metadata": {},
   "outputs": [],
   "source": []
  },
  {
   "cell_type": "code",
   "execution_count": 577,
   "metadata": {},
   "outputs": [
    {
     "name": "stdout",
     "output_type": "stream",
     "text": [
      "Documents in corpus: 5320\n",
      "(5320, 73448)\n",
      "(5320, 1)\n",
      "(1064, 73448)\n",
      "(1064, 1)\n",
      "Multinomial Naive Bayes Score:  0.576127819549\n",
      "Bernoulli Naive Bayes Score:  0.649436090226\n",
      "Logistic Regression Score:  0.647556390977\n",
      "(1064, 2)\n",
      "MNB prob:  [[ 0.57829769  0.42170231]\n",
      " [ 0.98490567  0.01509433]\n",
      " [ 0.94485346  0.05514654]\n",
      " ..., \n",
      " [ 0.75824738  0.24175262]\n",
      " [ 0.35640618  0.64359382]\n",
      " [ 0.91797771  0.08202229]]\n",
      "BNB prob:  [[  2.60051188e-16   1.00000000e+00]\n",
      " [  1.00000000e+00   2.44401102e-35]\n",
      " [  9.80300303e-01   1.96996967e-02]\n",
      " ..., \n",
      " [  5.80681156e-19   1.00000000e+00]\n",
      " [  8.00457609e-94   1.00000000e+00]\n",
      " [  6.76193558e-05   9.99932381e-01]]\n",
      "LR prob:  [[ 0.27728214  0.72271786]\n",
      " [ 0.72577649  0.27422351]\n",
      " [ 0.57719734  0.42280266]\n",
      " ..., \n",
      " [ 0.37173361  0.62826639]\n",
      " [ 0.37688852  0.62311148]\n",
      " [ 0.59804366  0.40195634]]\n"
     ]
    }
   ],
   "source": [
    "import pandas as pd\n",
    "import numpy as np\n",
    "from sklearn.feature_extraction.text import TfidfVectorizer\n",
    "from sklearn.cross_validation import train_test_split\n",
    "from sklearn.ensemble import GradientBoostingClassifier\n",
    "from sklearn.naive_bayes import MultinomialNB\n",
    "from sklearn.naive_bayes import GaussianNB\n",
    "from sklearn.naive_bayes import BernoulliNB\n",
    "from sklearn.model_selection import train_test_split\n",
    "from sklearn.linear_model import LogisticRegression\n",
    "from sklearn.ensemble import RandomForestClassifier\n",
    "import nltk\n",
    "import matplotlib.pyplot as plt\n",
    "from nltk.tag import pos_tag\n",
    "from sklearn.metrics import roc_curve\n",
    "import matplotlib.pyplot as plt\n",
    "from sklearn.metrics import auc\n",
    "from sklearn.cross_validation import KFold\n",
    "from sklearn.model_selection import cross_val_score\n",
    "import cPickle as pickle\n",
    "\n",
    "\n",
    "data = pd.read_csv('./data/modeltrain.txt', header=None, delimiter='\\n')\n",
    "labels = pd.read_csv('./data/modelclassifier.txt', header=None, delimiter='\\n')\n",
    "# vectorize words\n",
    "nlp_model = TfidfVectorizer(stop_words=\"english\")\n",
    "\n",
    "# get the nlp vectorized\n",
    "X = nlp_model.fit_transform(data[0])\n",
    "\n",
    "print \"Documents in corpus:\", len(X.toarray())\n",
    "\n",
    "# modify the shape of the labels array\n",
    "# do this before train_test_split\n",
    "y_labels = np.array(labels)\n",
    "y_labels.reshape(len(y_labels), )\n",
    "\n",
    "print X.shape\n",
    "print y_labels.shape\n",
    "# train test split would be nice but later\n",
    "X_train, X_test, y_train, y_test = train_test_split(X, y_labels, test_size=0.2, random_state=5)\n",
    "\n",
    "print X_test.shape\n",
    "print y_test.shape\n",
    "# create the classifier model\n",
    "mnb_classifier = MultinomialNB().fit(X_train, y_train)\n",
    "\n",
    "#gnb_classifier = GaussianNB().fit(X_train.toarray(), y_train)\n",
    "\n",
    "bnb_classifier = BernoulliNB().fit(X_train, y_train)\n",
    "\n",
    "# do some unoptimized hyperparamter tuning\n",
    "#gbc_classifier = GradientBoostingClassifier(learning_rate=0.1, n_estimators=100).fit(X_train, y_train)\n",
    "\n",
    "log_classifier = LogisticRegression().fit(X_train, y_train)\n",
    "\n",
    "#rf_classifier = RandomForestClassifier().fit(X_train, y_train)\n",
    "\n",
    "print \"Multinomial Naive Bayes Score: \", mnb_classifier.score(X_test, y_test)\n",
    "#print \"Gaussian Naive Bayes Score: \", gnb_classifier.score(X_test.toarray(), y_test)\n",
    "print \"Bernoulli Naive Bayes Score: \", bnb_classifier.score(X_test, y_test)\n",
    "#print \"GBC Score: \", gbc_classifier.score(X_test.toarray(), y_test)\n",
    "#print \"Random Forest Score: \", rf_classifier.score(X_test, y_test)\n",
    "print \"Logistic Regression Score: \", log_classifier.score(X_test, y_test)\n",
    "\n",
    "\n",
    "y_predictprob_mnb = mnb_classifier.predict_proba(X_test)\n",
    "#y_predictprob_gnb = gnb_classifier.predict_proba(X_test.toarray())\n",
    "y_predictprob_bnb = bnb_classifier.predict_proba(X_test)\n",
    "#y_predictgbc = gbc_classifier.predict_proba(X_test.toarray())\n",
    "#y_predictprob_rf = rf_classifier.predict_proba(X_test)\n",
    "y_predictprob_lr = log_classifier.predict_proba(X_test)\n",
    "#y_pred_ensemble = (y_test_predictlogprobab_nb[:,1] + y_predictgbc[:,1])/2.0\n",
    "print y_predictprob_bnb.shape\n",
    "print \"MNB prob: \", y_predictprob_mnb\n",
    "#print \"GNB prob: \", y_predictprob_gnb\n",
    "print \"BNB prob: \", y_predictprob_bnb\n",
    "#print \"GBC prob: \", y_predictgbc\n",
    "#print \"RF prob: \", y_predictprob_rf\n",
    "print \"LR prob: \", y_predictprob_lr\n",
    "\n",
    "\n"
   ]
  },
  {
   "cell_type": "code",
   "execution_count": 409,
   "metadata": {},
   "outputs": [
    {
     "data": {
      "text/plain": [
       "(1064, 2)"
      ]
     },
     "execution_count": 409,
     "metadata": {},
     "output_type": "execute_result"
    }
   ],
   "source": [
    "y_predictprob_bnb.shape"
   ]
  },
  {
   "cell_type": "markdown",
   "metadata": {},
   "source": [
    "MNB()"
   ]
  },
  {
   "cell_type": "code",
   "execution_count": 405,
   "metadata": {},
   "outputs": [
    {
     "name": "stdout",
     "output_type": "stream",
     "text": [
      "Documents in corpus: 5320\n",
      "(5320, 73448)\n",
      "(5320, 1)\n",
      "(1064, 73448)\n",
      "(1064, 1)\n",
      "Multinomial Naive Bayes Score:  0.586466165414\n",
      "Bernoulli Naive Bayes Score:  0.638157894737\n",
      "Logistic Regression Score:  0.666353383459\n",
      "(1064, 2)\n",
      "MNB prob:  [[ 0.77330974  0.22669026]\n",
      " [ 0.9157838   0.0842162 ]\n",
      " [ 0.8861564   0.1138436 ]\n",
      " ..., \n",
      " [ 0.33982815  0.66017185]\n",
      " [ 0.89717649  0.10282351]\n",
      " [ 0.93057029  0.06942971]]\n",
      "BNB prob:  [[  9.99999857e-01   1.42988420e-07]\n",
      " [  9.99999974e-01   2.56935035e-08]\n",
      " [  2.21413989e-06   9.99997786e-01]\n",
      " ..., \n",
      " [  1.15270780e-34   1.00000000e+00]\n",
      " [  1.00000000e+00   1.34397969e-10]\n",
      " [  9.99975538e-01   2.44619545e-05]]\n",
      "LR prob:  [[ 0.34259829  0.65740171]\n",
      " [ 0.60450791  0.39549209]\n",
      " [ 0.5645816   0.4354184 ]\n",
      " ..., \n",
      " [ 0.20558734  0.79441266]\n",
      " [ 0.55905308  0.44094692]\n",
      " [ 0.66223119  0.33776881]]\n"
     ]
    }
   ],
   "source": [
    "NLP()"
   ]
  },
  {
   "cell_type": "code",
   "execution_count": 177,
   "metadata": {},
   "outputs": [
    {
     "name": "stdout",
     "output_type": "stream",
     "text": [
      "Words in corpus: 5320\n"
     ]
    },
    {
     "name": "stderr",
     "output_type": "stream",
     "text": [
      "/usr/local/lib/python2.7/dist-packages/ipykernel_launcher.py:48: DataConversionWarning: A column-vector y was passed when a 1d array was expected. Please change the shape of y to (n_samples,), for example using ravel().\n"
     ]
    },
    {
     "name": "stdout",
     "output_type": "stream",
     "text": [
      "Multinomial Naive Bayes Score:  0.586466165414\n",
      "Gaussian Naive Bayes Score:  0.594736842105\n",
      "Bernoulli Naive Bayes Score:  0.612781954887\n",
      "GBC Score:  0.596992481203\n",
      "Random Forest Score:  0.577443609023\n",
      "Logistic Regression Score:  0.621804511278\n",
      "MNB prob:  [[ 0.67320418  0.32679582]\n",
      " [ 0.95616279  0.04383721]\n",
      " [ 0.97555997  0.02444003]\n",
      " ..., \n",
      " [ 0.96832716  0.03167284]\n",
      " [ 0.95258554  0.04741446]\n",
      " [ 0.48007166  0.51992834]]\n",
      "GNB prob:  [[ 0.  1.]\n",
      " [ 1.  0.]\n",
      " [ 1.  0.]\n",
      " ..., \n",
      " [ 1.  0.]\n",
      " [ 1.  0.]\n",
      " [ 0.  1.]]\n",
      "BNB prob:  [[  9.29768659e-26   1.00000000e+00]\n",
      " [  1.00000000e+00   1.76114986e-19]\n",
      " [  1.00000000e+00   1.19438068e-22]\n",
      " ..., \n",
      " [  1.00000000e+00   5.56048362e-22]\n",
      " [  1.00000000e+00   3.17647737e-22]\n",
      " [  2.34917225e-45   1.00000000e+00]]\n",
      "GBC prob:  [[ 0.51631883  0.48368117]\n",
      " [ 0.7544448   0.2455552 ]\n",
      " [ 0.62574352  0.37425648]\n",
      " ..., \n",
      " [ 0.68640533  0.31359467]\n",
      " [ 0.66961479  0.33038521]\n",
      " [ 0.30756964  0.69243036]]\n",
      "RF prob:  [[ 0.7  0.3]\n",
      " [ 0.6  0.4]\n",
      " [ 0.4  0.6]\n",
      " ..., \n",
      " [ 0.7  0.3]\n",
      " [ 0.5  0.5]\n",
      " [ 0.5  0.5]]\n",
      "LR prob:  [[ 0.36983004  0.63016996]\n",
      " [ 0.6926338   0.3073662 ]\n",
      " [ 0.7340022   0.2659978 ]\n",
      " ..., \n",
      " [ 0.77936927  0.22063073]\n",
      " [ 0.65723699  0.34276301]\n",
      " [ 0.30151816  0.69848184]]\n"
     ]
    }
   ],
   "source": [
    "NLP()"
   ]
  },
  {
   "cell_type": "code",
   "execution_count": 178,
   "metadata": {},
   "outputs": [
    {
     "data": {
      "text/html": [
       "<div>\n",
       "<style>\n",
       "    .dataframe thead tr:only-child th {\n",
       "        text-align: right;\n",
       "    }\n",
       "\n",
       "    .dataframe thead th {\n",
       "        text-align: left;\n",
       "    }\n",
       "\n",
       "    .dataframe tbody tr th {\n",
       "        vertical-align: top;\n",
       "    }\n",
       "</style>\n",
       "<table border=\"1\" class=\"dataframe\">\n",
       "  <thead>\n",
       "    <tr style=\"text-align: right;\">\n",
       "      <th></th>\n",
       "      <th>Ticker</th>\n",
       "      <th>Link_x</th>\n",
       "      <th>Labels_x</th>\n",
       "      <th>Train_x</th>\n",
       "      <th>Classifier_x</th>\n",
       "      <th>Current_x</th>\n",
       "      <th>Next_x</th>\n",
       "      <th>Link_y</th>\n",
       "      <th>Labels_y</th>\n",
       "      <th>Train_y</th>\n",
       "      <th>Classifier_y</th>\n",
       "      <th>Current_y</th>\n",
       "      <th>Next_y</th>\n",
       "    </tr>\n",
       "  </thead>\n",
       "  <tbody>\n",
       "    <tr>\n",
       "      <th>0</th>\n",
       "      <td>MMM</td>\n",
       "      <td>https://seekingalpha.com/article/4065316-3m-mm...</td>\n",
       "      <td>[&lt;div class=\"data-line\"&gt;\\n&lt;div&gt;EPS of $2.16 &lt;s...</td>\n",
       "      <td>Q1 2017 Earnings Call,April 25, 2017 9:00 am E...</td>\n",
       "      <td>True</td>\n",
       "      <td>Q1 2017</td>\n",
       "      <td>Q2 2017</td>\n",
       "      <td>https://seekingalpha.com/article/4039094-3ms-m...</td>\n",
       "      <td>[&lt;div class=\"data-line\"&gt;\\n&lt;div&gt;EPS of $1.88 &lt;s...</td>\n",
       "      <td>Q4 2016 Earnings Conference Call,January 24, 2...</td>\n",
       "      <td>False</td>\n",
       "      <td>Q4 2016</td>\n",
       "      <td>Q1 2017</td>\n",
       "    </tr>\n",
       "    <tr>\n",
       "      <th>1</th>\n",
       "      <td>MMM</td>\n",
       "      <td>https://seekingalpha.com/article/4039094-3ms-m...</td>\n",
       "      <td>[&lt;div class=\"data-line\"&gt;\\n&lt;div&gt;EPS of $1.88 &lt;s...</td>\n",
       "      <td>Q4 2016 Earnings Conference Call,January 24, 2...</td>\n",
       "      <td>False</td>\n",
       "      <td>Q4 2016</td>\n",
       "      <td>Q1 2017</td>\n",
       "      <td>https://seekingalpha.com/article/4014723-3m-mm...</td>\n",
       "      <td>[&lt;div class=\"data-line\"&gt;\\n&lt;div&gt;EPS of $2.15 &lt;s...</td>\n",
       "      <td>Q3 2016 Earnings Call,October 25, 2016 9:00 am...</td>\n",
       "      <td>False</td>\n",
       "      <td>Q3 2016</td>\n",
       "      <td>Q4 2016</td>\n",
       "    </tr>\n",
       "    <tr>\n",
       "      <th>2</th>\n",
       "      <td>MMM</td>\n",
       "      <td>https://seekingalpha.com/article/4014723-3m-mm...</td>\n",
       "      <td>[&lt;div class=\"data-line\"&gt;\\n&lt;div&gt;EPS of $2.15 &lt;s...</td>\n",
       "      <td>Q3 2016 Earnings Call,October 25, 2016 9:00 am...</td>\n",
       "      <td>False</td>\n",
       "      <td>Q3 2016</td>\n",
       "      <td>Q4 2016</td>\n",
       "      <td>https://seekingalpha.com/article/3991631-3m-mm...</td>\n",
       "      <td>[&lt;div class=\"data-line\"&gt;\\n&lt;div&gt;EPS of $2.08 &lt;s...</td>\n",
       "      <td>Q2 2016 Earnings Call,July 26, 2016 9:00 am ET...</td>\n",
       "      <td>False</td>\n",
       "      <td>Q2 2016</td>\n",
       "      <td>Q3 2016</td>\n",
       "    </tr>\n",
       "    <tr>\n",
       "      <th>3</th>\n",
       "      <td>MMM</td>\n",
       "      <td>https://seekingalpha.com/article/3991631-3m-mm...</td>\n",
       "      <td>[&lt;div class=\"data-line\"&gt;\\n&lt;div&gt;EPS of $2.08 &lt;s...</td>\n",
       "      <td>Q2 2016 Earnings Call,July 26, 2016 9:00 am ET...</td>\n",
       "      <td>False</td>\n",
       "      <td>Q2 2016</td>\n",
       "      <td>Q3 2016</td>\n",
       "      <td>https://seekingalpha.com/article/3968135-3ms-m...</td>\n",
       "      <td>[&lt;div class=\"data-line\"&gt;\\n&lt;div&gt;EPS of $2.05 &lt;s...</td>\n",
       "      <td>Q1 2016 Earnings Conference Call,April 26, 201...</td>\n",
       "      <td>True</td>\n",
       "      <td>Q1 2016</td>\n",
       "      <td>Q2 2016</td>\n",
       "    </tr>\n",
       "    <tr>\n",
       "      <th>4</th>\n",
       "      <td>ABT</td>\n",
       "      <td>https://seekingalpha.com/article/4063446-abbot...</td>\n",
       "      <td>[&lt;div class=\"data-line\"&gt;\\n&lt;div&gt;EPS of $0.48 &lt;s...</td>\n",
       "      <td>Q1 2017 Earnings Conference Call,April 19, 201...</td>\n",
       "      <td>True</td>\n",
       "      <td>Q1 2017</td>\n",
       "      <td>Q2 2017</td>\n",
       "      <td>https://seekingalpha.com/article/4039377-abbot...</td>\n",
       "      <td>[&lt;div class=\"data-line\"&gt;\\n&lt;div&gt;EPS of $0.65 &lt;s...</td>\n",
       "      <td>Q4 2016 Earnings Conference Call,January 25, 2...</td>\n",
       "      <td>False</td>\n",
       "      <td>Q4 2016</td>\n",
       "      <td>Q1 2017</td>\n",
       "    </tr>\n",
       "  </tbody>\n",
       "</table>\n",
       "</div>"
      ],
      "text/plain": [
       "  Ticker                                             Link_x  \\\n",
       "0    MMM  https://seekingalpha.com/article/4065316-3m-mm...   \n",
       "1    MMM  https://seekingalpha.com/article/4039094-3ms-m...   \n",
       "2    MMM  https://seekingalpha.com/article/4014723-3m-mm...   \n",
       "3    MMM  https://seekingalpha.com/article/3991631-3m-mm...   \n",
       "4    ABT  https://seekingalpha.com/article/4063446-abbot...   \n",
       "\n",
       "                                            Labels_x  \\\n",
       "0  [<div class=\"data-line\">\\n<div>EPS of $2.16 <s...   \n",
       "1  [<div class=\"data-line\">\\n<div>EPS of $1.88 <s...   \n",
       "2  [<div class=\"data-line\">\\n<div>EPS of $2.15 <s...   \n",
       "3  [<div class=\"data-line\">\\n<div>EPS of $2.08 <s...   \n",
       "4  [<div class=\"data-line\">\\n<div>EPS of $0.48 <s...   \n",
       "\n",
       "                                             Train_x  Classifier_x Current_x  \\\n",
       "0  Q1 2017 Earnings Call,April 25, 2017 9:00 am E...          True   Q1 2017   \n",
       "1  Q4 2016 Earnings Conference Call,January 24, 2...         False   Q4 2016   \n",
       "2  Q3 2016 Earnings Call,October 25, 2016 9:00 am...         False   Q3 2016   \n",
       "3  Q2 2016 Earnings Call,July 26, 2016 9:00 am ET...         False   Q2 2016   \n",
       "4  Q1 2017 Earnings Conference Call,April 19, 201...          True   Q1 2017   \n",
       "\n",
       "    Next_x                                             Link_y  \\\n",
       "0  Q2 2017  https://seekingalpha.com/article/4039094-3ms-m...   \n",
       "1  Q1 2017  https://seekingalpha.com/article/4014723-3m-mm...   \n",
       "2  Q4 2016  https://seekingalpha.com/article/3991631-3m-mm...   \n",
       "3  Q3 2016  https://seekingalpha.com/article/3968135-3ms-m...   \n",
       "4  Q2 2017  https://seekingalpha.com/article/4039377-abbot...   \n",
       "\n",
       "                                            Labels_y  \\\n",
       "0  [<div class=\"data-line\">\\n<div>EPS of $1.88 <s...   \n",
       "1  [<div class=\"data-line\">\\n<div>EPS of $2.15 <s...   \n",
       "2  [<div class=\"data-line\">\\n<div>EPS of $2.08 <s...   \n",
       "3  [<div class=\"data-line\">\\n<div>EPS of $2.05 <s...   \n",
       "4  [<div class=\"data-line\">\\n<div>EPS of $0.65 <s...   \n",
       "\n",
       "                                             Train_y  Classifier_y Current_y  \\\n",
       "0  Q4 2016 Earnings Conference Call,January 24, 2...         False   Q4 2016   \n",
       "1  Q3 2016 Earnings Call,October 25, 2016 9:00 am...         False   Q3 2016   \n",
       "2  Q2 2016 Earnings Call,July 26, 2016 9:00 am ET...         False   Q2 2016   \n",
       "3  Q1 2016 Earnings Conference Call,April 26, 201...          True   Q1 2016   \n",
       "4  Q4 2016 Earnings Conference Call,January 25, 2...         False   Q4 2016   \n",
       "\n",
       "    Next_y  \n",
       "0  Q1 2017  \n",
       "1  Q4 2016  \n",
       "2  Q3 2016  \n",
       "3  Q2 2016  \n",
       "4  Q1 2017  "
      ]
     },
     "execution_count": 178,
     "metadata": {},
     "output_type": "execute_result"
    }
   ],
   "source": [
    "dfwithjoins.head()"
   ]
  },
  {
   "cell_type": "code",
   "execution_count": 236,
   "metadata": {},
   "outputs": [],
   "source": [
    "from nltk.sentiment.vader import SentimentIntensityAnalyzer"
   ]
  },
  {
   "cell_type": "code",
   "execution_count": 311,
   "metadata": {},
   "outputs": [
    {
     "name": "stderr",
     "output_type": "stream",
     "text": [
      "/usr/local/lib/python2.7/dist-packages/ipykernel_launcher.py:8: SettingWithCopyWarning: \n",
      "A value is trying to be set on a copy of a slice from a DataFrame\n",
      "\n",
      "See the caveats in the documentation: http://pandas.pydata.org/pandas-docs/stable/indexing.html#indexing-view-versus-copy\n",
      "  \n",
      "/usr/local/lib/python2.7/dist-packages/ipykernel_launcher.py:10: SettingWithCopyWarning: \n",
      "A value is trying to be set on a copy of a slice from a DataFrame\n",
      "\n",
      "See the caveats in the documentation: http://pandas.pydata.org/pandas-docs/stable/indexing.html#indexing-view-versus-copy\n",
      "  # Remove the CWD from sys.path while we load stuff.\n",
      "/usr/local/lib/python2.7/dist-packages/ipykernel_launcher.py:12: SettingWithCopyWarning: \n",
      "A value is trying to be set on a copy of a slice from a DataFrame\n",
      "\n",
      "See the caveats in the documentation: http://pandas.pydata.org/pandas-docs/stable/indexing.html#indexing-view-versus-copy\n",
      "  if sys.path[0] == '':\n",
      "/usr/local/lib/python2.7/dist-packages/ipykernel_launcher.py:14: SettingWithCopyWarning: \n",
      "A value is trying to be set on a copy of a slice from a DataFrame\n",
      "\n",
      "See the caveats in the documentation: http://pandas.pydata.org/pandas-docs/stable/indexing.html#indexing-view-versus-copy\n",
      "  \n"
     ]
    }
   ],
   "source": [
    "for i in range(len(dfwithjoins.index)):\n",
    "    sentence = dfwithjoins['Train_x'][i]\n",
    "    sid = SentimentIntensityAnalyzer()\n",
    "    ss = sid.polarity_scores(sentence)\n",
    "    for k in sorted(ss):\n",
    "        #print('{0}: {1}'.format(k, ss[k]))\n",
    "        if k[0] == 'c':\n",
    "            dfwithjoins['Compound'][i] = ss[k]\n",
    "        if k[0:3] == 'neg':\n",
    "            dfwithjoins['Neg'][i] = ss[k]\n",
    "        if k[0:3] == 'neu':\n",
    "            dfwithjoins['Neu'][i] = ss[k]\n",
    "        if k[0] == 'p':\n",
    "            dfwithjoins['Pos'][i] = ss[k]"
   ]
  },
  {
   "cell_type": "code",
   "execution_count": 358,
   "metadata": {},
   "outputs": [
    {
     "name": "stdout",
     "output_type": "stream",
     "text": [
      "{'neg': 0.0, 'neu': 0.0, 'pos': 1.0, 'compound': 0.9231}\n"
     ]
    }
   ],
   "source": [
    "sentence = ''\n",
    "sid = SentimentIntensityAnalyzer()\n",
    "ss = sid.polarity_scores(sentence)\n",
    "print ss"
   ]
  },
  {
   "cell_type": "code",
   "execution_count": 350,
   "metadata": {},
   "outputs": [
    {
     "data": {
      "text/html": [
       "<div>\n",
       "<style>\n",
       "    .dataframe thead tr:only-child th {\n",
       "        text-align: right;\n",
       "    }\n",
       "\n",
       "    .dataframe thead th {\n",
       "        text-align: left;\n",
       "    }\n",
       "\n",
       "    .dataframe tbody tr th {\n",
       "        vertical-align: top;\n",
       "    }\n",
       "</style>\n",
       "<table border=\"1\" class=\"dataframe\">\n",
       "  <thead>\n",
       "    <tr style=\"text-align: right;\">\n",
       "      <th></th>\n",
       "      <th>Ticker</th>\n",
       "      <th>Link_x</th>\n",
       "      <th>Labels_x</th>\n",
       "      <th>Train_x</th>\n",
       "      <th>Classifier_x</th>\n",
       "      <th>Current_x</th>\n",
       "      <th>Next_x</th>\n",
       "      <th>Link_y</th>\n",
       "      <th>Labels_y</th>\n",
       "      <th>Train_y</th>\n",
       "      <th>Classifier_y</th>\n",
       "      <th>Current_y</th>\n",
       "      <th>Next_y</th>\n",
       "      <th>Compound</th>\n",
       "      <th>Neg</th>\n",
       "      <th>Neu</th>\n",
       "      <th>Pos</th>\n",
       "      <th>Wordcount</th>\n",
       "    </tr>\n",
       "  </thead>\n",
       "  <tbody>\n",
       "    <tr>\n",
       "      <th>0</th>\n",
       "      <td>MMM</td>\n",
       "      <td>https://seekingalpha.com/article/4065316-3m-mm...</td>\n",
       "      <td>[&lt;div class=\"data-line\"&gt;\\n&lt;div&gt;EPS of $2.16 &lt;s...</td>\n",
       "      <td>Q1 2017 Earnings Call,April 25, 2017 9:00 am E...</td>\n",
       "      <td>True</td>\n",
       "      <td>Q1 2017</td>\n",
       "      <td>Q2 2017</td>\n",
       "      <td>https://seekingalpha.com/article/4039094-3ms-m...</td>\n",
       "      <td>[&lt;div class=\"data-line\"&gt;\\n&lt;div&gt;EPS of $1.88 &lt;s...</td>\n",
       "      <td>Q4 2016 Earnings Conference Call,January 24, 2...</td>\n",
       "      <td>False</td>\n",
       "      <td>Q4 2016</td>\n",
       "      <td>Q1 2017</td>\n",
       "      <td>1.0</td>\n",
       "      <td>0.014</td>\n",
       "      <td>0.832</td>\n",
       "      <td>0.154</td>\n",
       "      <td>9618</td>\n",
       "    </tr>\n",
       "    <tr>\n",
       "      <th>1</th>\n",
       "      <td>MMM</td>\n",
       "      <td>https://seekingalpha.com/article/4039094-3ms-m...</td>\n",
       "      <td>[&lt;div class=\"data-line\"&gt;\\n&lt;div&gt;EPS of $1.88 &lt;s...</td>\n",
       "      <td>Q4 2016 Earnings Conference Call,January 24, 2...</td>\n",
       "      <td>False</td>\n",
       "      <td>Q4 2016</td>\n",
       "      <td>Q1 2017</td>\n",
       "      <td>https://seekingalpha.com/article/4014723-3m-mm...</td>\n",
       "      <td>[&lt;div class=\"data-line\"&gt;\\n&lt;div&gt;EPS of $2.15 &lt;s...</td>\n",
       "      <td>Q3 2016 Earnings Call,October 25, 2016 9:00 am...</td>\n",
       "      <td>False</td>\n",
       "      <td>Q3 2016</td>\n",
       "      <td>Q4 2016</td>\n",
       "      <td>1.0</td>\n",
       "      <td>0.013</td>\n",
       "      <td>0.850</td>\n",
       "      <td>0.136</td>\n",
       "      <td>10425</td>\n",
       "    </tr>\n",
       "    <tr>\n",
       "      <th>2</th>\n",
       "      <td>MMM</td>\n",
       "      <td>https://seekingalpha.com/article/4014723-3m-mm...</td>\n",
       "      <td>[&lt;div class=\"data-line\"&gt;\\n&lt;div&gt;EPS of $2.15 &lt;s...</td>\n",
       "      <td>Q3 2016 Earnings Call,October 25, 2016 9:00 am...</td>\n",
       "      <td>False</td>\n",
       "      <td>Q3 2016</td>\n",
       "      <td>Q4 2016</td>\n",
       "      <td>https://seekingalpha.com/article/3991631-3m-mm...</td>\n",
       "      <td>[&lt;div class=\"data-line\"&gt;\\n&lt;div&gt;EPS of $2.08 &lt;s...</td>\n",
       "      <td>Q2 2016 Earnings Call,July 26, 2016 9:00 am ET...</td>\n",
       "      <td>False</td>\n",
       "      <td>Q2 2016</td>\n",
       "      <td>Q3 2016</td>\n",
       "      <td>1.0</td>\n",
       "      <td>0.019</td>\n",
       "      <td>0.837</td>\n",
       "      <td>0.143</td>\n",
       "      <td>11085</td>\n",
       "    </tr>\n",
       "    <tr>\n",
       "      <th>3</th>\n",
       "      <td>MMM</td>\n",
       "      <td>https://seekingalpha.com/article/3991631-3m-mm...</td>\n",
       "      <td>[&lt;div class=\"data-line\"&gt;\\n&lt;div&gt;EPS of $2.08 &lt;s...</td>\n",
       "      <td>Q2 2016 Earnings Call,July 26, 2016 9:00 am ET...</td>\n",
       "      <td>False</td>\n",
       "      <td>Q2 2016</td>\n",
       "      <td>Q3 2016</td>\n",
       "      <td>https://seekingalpha.com/article/3968135-3ms-m...</td>\n",
       "      <td>[&lt;div class=\"data-line\"&gt;\\n&lt;div&gt;EPS of $2.05 &lt;s...</td>\n",
       "      <td>Q1 2016 Earnings Conference Call,April 26, 201...</td>\n",
       "      <td>True</td>\n",
       "      <td>Q1 2016</td>\n",
       "      <td>Q2 2016</td>\n",
       "      <td>1.0</td>\n",
       "      <td>0.020</td>\n",
       "      <td>0.846</td>\n",
       "      <td>0.134</td>\n",
       "      <td>10669</td>\n",
       "    </tr>\n",
       "    <tr>\n",
       "      <th>4</th>\n",
       "      <td>ABT</td>\n",
       "      <td>https://seekingalpha.com/article/4063446-abbot...</td>\n",
       "      <td>[&lt;div class=\"data-line\"&gt;\\n&lt;div&gt;EPS of $0.48 &lt;s...</td>\n",
       "      <td>Q1 2017 Earnings Conference Call,April 19, 201...</td>\n",
       "      <td>True</td>\n",
       "      <td>Q1 2017</td>\n",
       "      <td>Q2 2017</td>\n",
       "      <td>https://seekingalpha.com/article/4039377-abbot...</td>\n",
       "      <td>[&lt;div class=\"data-line\"&gt;\\n&lt;div&gt;EPS of $0.65 &lt;s...</td>\n",
       "      <td>Q4 2016 Earnings Conference Call,January 25, 2...</td>\n",
       "      <td>False</td>\n",
       "      <td>Q4 2016</td>\n",
       "      <td>Q1 2017</td>\n",
       "      <td>1.0</td>\n",
       "      <td>0.022</td>\n",
       "      <td>0.830</td>\n",
       "      <td>0.148</td>\n",
       "      <td>9227</td>\n",
       "    </tr>\n",
       "  </tbody>\n",
       "</table>\n",
       "</div>"
      ],
      "text/plain": [
       "  Ticker                                             Link_x  \\\n",
       "0    MMM  https://seekingalpha.com/article/4065316-3m-mm...   \n",
       "1    MMM  https://seekingalpha.com/article/4039094-3ms-m...   \n",
       "2    MMM  https://seekingalpha.com/article/4014723-3m-mm...   \n",
       "3    MMM  https://seekingalpha.com/article/3991631-3m-mm...   \n",
       "4    ABT  https://seekingalpha.com/article/4063446-abbot...   \n",
       "\n",
       "                                            Labels_x  \\\n",
       "0  [<div class=\"data-line\">\\n<div>EPS of $2.16 <s...   \n",
       "1  [<div class=\"data-line\">\\n<div>EPS of $1.88 <s...   \n",
       "2  [<div class=\"data-line\">\\n<div>EPS of $2.15 <s...   \n",
       "3  [<div class=\"data-line\">\\n<div>EPS of $2.08 <s...   \n",
       "4  [<div class=\"data-line\">\\n<div>EPS of $0.48 <s...   \n",
       "\n",
       "                                             Train_x  Classifier_x Current_x  \\\n",
       "0  Q1 2017 Earnings Call,April 25, 2017 9:00 am E...          True   Q1 2017   \n",
       "1  Q4 2016 Earnings Conference Call,January 24, 2...         False   Q4 2016   \n",
       "2  Q3 2016 Earnings Call,October 25, 2016 9:00 am...         False   Q3 2016   \n",
       "3  Q2 2016 Earnings Call,July 26, 2016 9:00 am ET...         False   Q2 2016   \n",
       "4  Q1 2017 Earnings Conference Call,April 19, 201...          True   Q1 2017   \n",
       "\n",
       "    Next_x                                             Link_y  \\\n",
       "0  Q2 2017  https://seekingalpha.com/article/4039094-3ms-m...   \n",
       "1  Q1 2017  https://seekingalpha.com/article/4014723-3m-mm...   \n",
       "2  Q4 2016  https://seekingalpha.com/article/3991631-3m-mm...   \n",
       "3  Q3 2016  https://seekingalpha.com/article/3968135-3ms-m...   \n",
       "4  Q2 2017  https://seekingalpha.com/article/4039377-abbot...   \n",
       "\n",
       "                                            Labels_y  \\\n",
       "0  [<div class=\"data-line\">\\n<div>EPS of $1.88 <s...   \n",
       "1  [<div class=\"data-line\">\\n<div>EPS of $2.15 <s...   \n",
       "2  [<div class=\"data-line\">\\n<div>EPS of $2.08 <s...   \n",
       "3  [<div class=\"data-line\">\\n<div>EPS of $2.05 <s...   \n",
       "4  [<div class=\"data-line\">\\n<div>EPS of $0.65 <s...   \n",
       "\n",
       "                                             Train_y  Classifier_y Current_y  \\\n",
       "0  Q4 2016 Earnings Conference Call,January 24, 2...         False   Q4 2016   \n",
       "1  Q3 2016 Earnings Call,October 25, 2016 9:00 am...         False   Q3 2016   \n",
       "2  Q2 2016 Earnings Call,July 26, 2016 9:00 am ET...         False   Q2 2016   \n",
       "3  Q1 2016 Earnings Conference Call,April 26, 201...          True   Q1 2016   \n",
       "4  Q4 2016 Earnings Conference Call,January 25, 2...         False   Q4 2016   \n",
       "\n",
       "    Next_y  Compound    Neg    Neu    Pos  Wordcount  \n",
       "0  Q1 2017       1.0  0.014  0.832  0.154       9618  \n",
       "1  Q4 2016       1.0  0.013  0.850  0.136      10425  \n",
       "2  Q3 2016       1.0  0.019  0.837  0.143      11085  \n",
       "3  Q2 2016       1.0  0.020  0.846  0.134      10669  \n",
       "4  Q1 2017       1.0  0.022  0.830  0.148       9227  "
      ]
     },
     "execution_count": 350,
     "metadata": {},
     "output_type": "execute_result"
    }
   ],
   "source": [
    "dfwithjoins.head()"
   ]
  },
  {
   "cell_type": "code",
   "execution_count": 351,
   "metadata": {
    "collapsed": true
   },
   "outputs": [],
   "source": [
    "dfwithjoins.to_csv('alldata.csv', sep='\\t', index=False)"
   ]
  },
  {
   "cell_type": "code",
   "execution_count": 317,
   "metadata": {},
   "outputs": [
    {
     "name": "stderr",
     "output_type": "stream",
     "text": [
      "/usr/local/lib/python2.7/dist-packages/ipykernel_launcher.py:4: SettingWithCopyWarning: \n",
      "A value is trying to be set on a copy of a slice from a DataFrame\n",
      "\n",
      "See the caveats in the documentation: http://pandas.pydata.org/pandas-docs/stable/indexing.html#indexing-view-versus-copy\n",
      "  after removing the cwd from sys.path.\n"
     ]
    }
   ],
   "source": [
    "for i in range(len(dfwithjoins.index)):\n",
    "\n",
    "    wordcount = len(re.findall('. ', dfwithjoins['Train_x'][i]))\n",
    "    dfwithjoins['Wordcount'][i] = wordcount\n"
   ]
  },
  {
   "cell_type": "code",
   "execution_count": 318,
   "metadata": {},
   "outputs": [
    {
     "data": {
      "text/html": [
       "<div>\n",
       "<style>\n",
       "    .dataframe thead tr:only-child th {\n",
       "        text-align: right;\n",
       "    }\n",
       "\n",
       "    .dataframe thead th {\n",
       "        text-align: left;\n",
       "    }\n",
       "\n",
       "    .dataframe tbody tr th {\n",
       "        vertical-align: top;\n",
       "    }\n",
       "</style>\n",
       "<table border=\"1\" class=\"dataframe\">\n",
       "  <thead>\n",
       "    <tr style=\"text-align: right;\">\n",
       "      <th></th>\n",
       "      <th>Ticker</th>\n",
       "      <th>Link_x</th>\n",
       "      <th>Labels_x</th>\n",
       "      <th>Train_x</th>\n",
       "      <th>Classifier_x</th>\n",
       "      <th>Current_x</th>\n",
       "      <th>Next_x</th>\n",
       "      <th>Link_y</th>\n",
       "      <th>Labels_y</th>\n",
       "      <th>Train_y</th>\n",
       "      <th>Classifier_y</th>\n",
       "      <th>Current_y</th>\n",
       "      <th>Next_y</th>\n",
       "      <th>Compound</th>\n",
       "      <th>Neg</th>\n",
       "      <th>Neu</th>\n",
       "      <th>Pos</th>\n",
       "      <th>Wordcount</th>\n",
       "    </tr>\n",
       "  </thead>\n",
       "  <tbody>\n",
       "    <tr>\n",
       "      <th>0</th>\n",
       "      <td>MMM</td>\n",
       "      <td>https://seekingalpha.com/article/4065316-3m-mm...</td>\n",
       "      <td>[&lt;div class=\"data-line\"&gt;\\n&lt;div&gt;EPS of $2.16 &lt;s...</td>\n",
       "      <td>Q1 2017 Earnings Call,April 25, 2017 9:00 am E...</td>\n",
       "      <td>True</td>\n",
       "      <td>Q1 2017</td>\n",
       "      <td>Q2 2017</td>\n",
       "      <td>https://seekingalpha.com/article/4039094-3ms-m...</td>\n",
       "      <td>[&lt;div class=\"data-line\"&gt;\\n&lt;div&gt;EPS of $1.88 &lt;s...</td>\n",
       "      <td>Q4 2016 Earnings Conference Call,January 24, 2...</td>\n",
       "      <td>False</td>\n",
       "      <td>Q4 2016</td>\n",
       "      <td>Q1 2017</td>\n",
       "      <td>1.0</td>\n",
       "      <td>0.014</td>\n",
       "      <td>0.832</td>\n",
       "      <td>0.154</td>\n",
       "      <td>9618</td>\n",
       "    </tr>\n",
       "    <tr>\n",
       "      <th>1</th>\n",
       "      <td>MMM</td>\n",
       "      <td>https://seekingalpha.com/article/4039094-3ms-m...</td>\n",
       "      <td>[&lt;div class=\"data-line\"&gt;\\n&lt;div&gt;EPS of $1.88 &lt;s...</td>\n",
       "      <td>Q4 2016 Earnings Conference Call,January 24, 2...</td>\n",
       "      <td>False</td>\n",
       "      <td>Q4 2016</td>\n",
       "      <td>Q1 2017</td>\n",
       "      <td>https://seekingalpha.com/article/4014723-3m-mm...</td>\n",
       "      <td>[&lt;div class=\"data-line\"&gt;\\n&lt;div&gt;EPS of $2.15 &lt;s...</td>\n",
       "      <td>Q3 2016 Earnings Call,October 25, 2016 9:00 am...</td>\n",
       "      <td>False</td>\n",
       "      <td>Q3 2016</td>\n",
       "      <td>Q4 2016</td>\n",
       "      <td>1.0</td>\n",
       "      <td>0.013</td>\n",
       "      <td>0.850</td>\n",
       "      <td>0.136</td>\n",
       "      <td>10425</td>\n",
       "    </tr>\n",
       "    <tr>\n",
       "      <th>2</th>\n",
       "      <td>MMM</td>\n",
       "      <td>https://seekingalpha.com/article/4014723-3m-mm...</td>\n",
       "      <td>[&lt;div class=\"data-line\"&gt;\\n&lt;div&gt;EPS of $2.15 &lt;s...</td>\n",
       "      <td>Q3 2016 Earnings Call,October 25, 2016 9:00 am...</td>\n",
       "      <td>False</td>\n",
       "      <td>Q3 2016</td>\n",
       "      <td>Q4 2016</td>\n",
       "      <td>https://seekingalpha.com/article/3991631-3m-mm...</td>\n",
       "      <td>[&lt;div class=\"data-line\"&gt;\\n&lt;div&gt;EPS of $2.08 &lt;s...</td>\n",
       "      <td>Q2 2016 Earnings Call,July 26, 2016 9:00 am ET...</td>\n",
       "      <td>False</td>\n",
       "      <td>Q2 2016</td>\n",
       "      <td>Q3 2016</td>\n",
       "      <td>1.0</td>\n",
       "      <td>0.019</td>\n",
       "      <td>0.837</td>\n",
       "      <td>0.143</td>\n",
       "      <td>11085</td>\n",
       "    </tr>\n",
       "    <tr>\n",
       "      <th>3</th>\n",
       "      <td>MMM</td>\n",
       "      <td>https://seekingalpha.com/article/3991631-3m-mm...</td>\n",
       "      <td>[&lt;div class=\"data-line\"&gt;\\n&lt;div&gt;EPS of $2.08 &lt;s...</td>\n",
       "      <td>Q2 2016 Earnings Call,July 26, 2016 9:00 am ET...</td>\n",
       "      <td>False</td>\n",
       "      <td>Q2 2016</td>\n",
       "      <td>Q3 2016</td>\n",
       "      <td>https://seekingalpha.com/article/3968135-3ms-m...</td>\n",
       "      <td>[&lt;div class=\"data-line\"&gt;\\n&lt;div&gt;EPS of $2.05 &lt;s...</td>\n",
       "      <td>Q1 2016 Earnings Conference Call,April 26, 201...</td>\n",
       "      <td>True</td>\n",
       "      <td>Q1 2016</td>\n",
       "      <td>Q2 2016</td>\n",
       "      <td>1.0</td>\n",
       "      <td>0.020</td>\n",
       "      <td>0.846</td>\n",
       "      <td>0.134</td>\n",
       "      <td>10669</td>\n",
       "    </tr>\n",
       "    <tr>\n",
       "      <th>4</th>\n",
       "      <td>ABT</td>\n",
       "      <td>https://seekingalpha.com/article/4063446-abbot...</td>\n",
       "      <td>[&lt;div class=\"data-line\"&gt;\\n&lt;div&gt;EPS of $0.48 &lt;s...</td>\n",
       "      <td>Q1 2017 Earnings Conference Call,April 19, 201...</td>\n",
       "      <td>True</td>\n",
       "      <td>Q1 2017</td>\n",
       "      <td>Q2 2017</td>\n",
       "      <td>https://seekingalpha.com/article/4039377-abbot...</td>\n",
       "      <td>[&lt;div class=\"data-line\"&gt;\\n&lt;div&gt;EPS of $0.65 &lt;s...</td>\n",
       "      <td>Q4 2016 Earnings Conference Call,January 25, 2...</td>\n",
       "      <td>False</td>\n",
       "      <td>Q4 2016</td>\n",
       "      <td>Q1 2017</td>\n",
       "      <td>1.0</td>\n",
       "      <td>0.022</td>\n",
       "      <td>0.830</td>\n",
       "      <td>0.148</td>\n",
       "      <td>9227</td>\n",
       "    </tr>\n",
       "  </tbody>\n",
       "</table>\n",
       "</div>"
      ],
      "text/plain": [
       "  Ticker                                             Link_x  \\\n",
       "0    MMM  https://seekingalpha.com/article/4065316-3m-mm...   \n",
       "1    MMM  https://seekingalpha.com/article/4039094-3ms-m...   \n",
       "2    MMM  https://seekingalpha.com/article/4014723-3m-mm...   \n",
       "3    MMM  https://seekingalpha.com/article/3991631-3m-mm...   \n",
       "4    ABT  https://seekingalpha.com/article/4063446-abbot...   \n",
       "\n",
       "                                            Labels_x  \\\n",
       "0  [<div class=\"data-line\">\\n<div>EPS of $2.16 <s...   \n",
       "1  [<div class=\"data-line\">\\n<div>EPS of $1.88 <s...   \n",
       "2  [<div class=\"data-line\">\\n<div>EPS of $2.15 <s...   \n",
       "3  [<div class=\"data-line\">\\n<div>EPS of $2.08 <s...   \n",
       "4  [<div class=\"data-line\">\\n<div>EPS of $0.48 <s...   \n",
       "\n",
       "                                             Train_x  Classifier_x Current_x  \\\n",
       "0  Q1 2017 Earnings Call,April 25, 2017 9:00 am E...          True   Q1 2017   \n",
       "1  Q4 2016 Earnings Conference Call,January 24, 2...         False   Q4 2016   \n",
       "2  Q3 2016 Earnings Call,October 25, 2016 9:00 am...         False   Q3 2016   \n",
       "3  Q2 2016 Earnings Call,July 26, 2016 9:00 am ET...         False   Q2 2016   \n",
       "4  Q1 2017 Earnings Conference Call,April 19, 201...          True   Q1 2017   \n",
       "\n",
       "    Next_x                                             Link_y  \\\n",
       "0  Q2 2017  https://seekingalpha.com/article/4039094-3ms-m...   \n",
       "1  Q1 2017  https://seekingalpha.com/article/4014723-3m-mm...   \n",
       "2  Q4 2016  https://seekingalpha.com/article/3991631-3m-mm...   \n",
       "3  Q3 2016  https://seekingalpha.com/article/3968135-3ms-m...   \n",
       "4  Q2 2017  https://seekingalpha.com/article/4039377-abbot...   \n",
       "\n",
       "                                            Labels_y  \\\n",
       "0  [<div class=\"data-line\">\\n<div>EPS of $1.88 <s...   \n",
       "1  [<div class=\"data-line\">\\n<div>EPS of $2.15 <s...   \n",
       "2  [<div class=\"data-line\">\\n<div>EPS of $2.08 <s...   \n",
       "3  [<div class=\"data-line\">\\n<div>EPS of $2.05 <s...   \n",
       "4  [<div class=\"data-line\">\\n<div>EPS of $0.65 <s...   \n",
       "\n",
       "                                             Train_y  Classifier_y Current_y  \\\n",
       "0  Q4 2016 Earnings Conference Call,January 24, 2...         False   Q4 2016   \n",
       "1  Q3 2016 Earnings Call,October 25, 2016 9:00 am...         False   Q3 2016   \n",
       "2  Q2 2016 Earnings Call,July 26, 2016 9:00 am ET...         False   Q2 2016   \n",
       "3  Q1 2016 Earnings Conference Call,April 26, 201...          True   Q1 2016   \n",
       "4  Q4 2016 Earnings Conference Call,January 25, 2...         False   Q4 2016   \n",
       "\n",
       "    Next_y  Compound    Neg    Neu    Pos  Wordcount  \n",
       "0  Q1 2017       1.0  0.014  0.832  0.154       9618  \n",
       "1  Q4 2016       1.0  0.013  0.850  0.136      10425  \n",
       "2  Q3 2016       1.0  0.019  0.837  0.143      11085  \n",
       "3  Q2 2016       1.0  0.020  0.846  0.134      10669  \n",
       "4  Q1 2017       1.0  0.022  0.830  0.148       9227  "
      ]
     },
     "execution_count": 318,
     "metadata": {},
     "output_type": "execute_result"
    }
   ],
   "source": [
    "dfwithjoins.head()"
   ]
  },
  {
   "cell_type": "code",
   "execution_count": null,
   "metadata": {},
   "outputs": [],
   "source": []
  },
  {
   "cell_type": "code",
   "execution_count": null,
   "metadata": {},
   "outputs": [],
   "source": []
  },
  {
   "cell_type": "code",
   "execution_count": 332,
   "metadata": {},
   "outputs": [],
   "source": [
    "GBC = GradientBoostingClassifier().fit(X_train, y_train)"
   ]
  },
  {
   "cell_type": "code",
   "execution_count": 334,
   "metadata": {},
   "outputs": [
    {
     "name": "stdout",
     "output_type": "stream",
     "text": [
      "GBC Score:  0.604783599089\n"
     ]
    }
   ],
   "source": [
    "print \"GBC Score: \", GBC.score(X_test.toarray(), y_test)"
   ]
  },
  {
   "cell_type": "code",
   "execution_count": null,
   "metadata": {},
   "outputs": [],
   "source": []
  },
  {
   "cell_type": "code",
   "execution_count": 362,
   "metadata": {},
   "outputs": [
    {
     "name": "stdout",
     "output_type": "stream",
     "text": [
      "Documents in corpus: 5320\n",
      "Multinomial Naive Bayes Score:  0.586466165414\n",
      "Logistic Regression Score:  0.641353383459\n",
      "MNB prob:  [[ 0.94358356  0.05641644]\n",
      " [ 0.88950266  0.11049734]\n",
      " [ 0.89801046  0.10198954]\n",
      " ..., \n",
      " [ 0.8838829   0.1161171 ]\n",
      " [ 0.94835447  0.05164553]\n",
      " [ 0.98409346  0.01590654]]\n",
      "LR prob:  [[ 0.60309549  0.39690451]\n",
      " [ 0.51872376  0.48127624]\n",
      " [ 0.6387209   0.3612791 ]\n",
      " ..., \n",
      " [ 0.54875044  0.45124956]\n",
      " [ 0.68641463  0.31358537]\n",
      " [ 0.79500307  0.20499693]]\n"
     ]
    }
   ],
   "source": [
    "NLP()"
   ]
  },
  {
   "cell_type": "code",
   "execution_count": 363,
   "metadata": {
    "collapsed": true
   },
   "outputs": [],
   "source": [
    "from sklearn.ensemble import RandomForestClassifier\n",
    "from sklearn.ensemble import GradientBoostingClassifier\n",
    "from sklearn.feature_extraction.text import TfidfVectorizer\n",
    "from sklearn.model_selection import train_test_split, cross_val_score\n",
    "from sklearn.model_selection import GridSearchCV\n",
    "from sklearn.metrics import mean_squared_error, r2_score\n",
    "import matplotlib.pyplot as plt\n",
    "import numpy as np\n",
    "import textwrap\n",
    "import pandas as pd\n",
    "from sklearn.preprocessing import LabelEncoder\n",
    "from sklearn.model_selection import cross_val_predict\n",
    "from sklearn import preprocessing\n"
   ]
  },
  {
   "cell_type": "code",
   "execution_count": 578,
   "metadata": {},
   "outputs": [
    {
     "name": "stdout",
     "output_type": "stream",
     "text": [
      "=========================================\n"
     ]
    },
    {
     "name": "stderr",
     "output_type": "stream",
     "text": [
      "/usr/local/lib/python2.7/dist-packages/sklearn/metrics/regression.py:232: DeprecationWarning: numpy boolean subtract, the `-` operator, is deprecated, use the bitwise_xor, the `^` operator, or the logical_xor function instead.\n",
      "  output_errors = np.average((y_true - y_pred) ** 2, axis=0,\n",
      "/usr/local/lib/python2.7/dist-packages/sklearn/metrics/regression.py:232: DeprecationWarning: numpy boolean subtract, the `-` operator, is deprecated, use the bitwise_xor, the `^` operator, or the logical_xor function instead.\n",
      "  output_errors = np.average((y_true - y_pred) ** 2, axis=0,\n",
      "/usr/local/lib/python2.7/dist-packages/sklearn/metrics/regression.py:232: DeprecationWarning: numpy boolean subtract, the `-` operator, is deprecated, use the bitwise_xor, the `^` operator, or the logical_xor function instead.\n",
      "  output_errors = np.average((y_true - y_pred) ** 2, axis=0,\n",
      "/usr/local/lib/python2.7/dist-packages/sklearn/metrics/regression.py:232: DeprecationWarning: numpy boolean subtract, the `-` operator, is deprecated, use the bitwise_xor, the `^` operator, or the logical_xor function instead.\n",
      "  output_errors = np.average((y_true - y_pred) ** 2, axis=0,\n",
      "/usr/local/lib/python2.7/dist-packages/sklearn/metrics/regression.py:232: DeprecationWarning: numpy boolean subtract, the `-` operator, is deprecated, use the bitwise_xor, the `^` operator, or the logical_xor function instead.\n",
      "  output_errors = np.average((y_true - y_pred) ** 2, axis=0,\n",
      "/usr/local/lib/python2.7/dist-packages/sklearn/metrics/regression.py:232: DeprecationWarning: numpy boolean subtract, the `-` operator, is deprecated, use the bitwise_xor, the `^` operator, or the logical_xor function instead.\n",
      "  output_errors = np.average((y_true - y_pred) ** 2, axis=0,\n",
      "/usr/local/lib/python2.7/dist-packages/sklearn/metrics/regression.py:232: DeprecationWarning: numpy boolean subtract, the `-` operator, is deprecated, use the bitwise_xor, the `^` operator, or the logical_xor function instead.\n",
      "  output_errors = np.average((y_true - y_pred) ** 2, axis=0,\n",
      "/usr/local/lib/python2.7/dist-packages/sklearn/metrics/regression.py:232: DeprecationWarning: numpy boolean subtract, the `-` operator, is deprecated, use the bitwise_xor, the `^` operator, or the logical_xor function instead.\n",
      "  output_errors = np.average((y_true - y_pred) ** 2, axis=0,\n",
      "/usr/local/lib/python2.7/dist-packages/sklearn/metrics/regression.py:232: DeprecationWarning: numpy boolean subtract, the `-` operator, is deprecated, use the bitwise_xor, the `^` operator, or the logical_xor function instead.\n",
      "  output_errors = np.average((y_true - y_pred) ** 2, axis=0,\n",
      "/usr/local/lib/python2.7/dist-packages/sklearn/metrics/regression.py:232: DeprecationWarning: numpy boolean subtract, the `-` operator, is deprecated, use the bitwise_xor, the `^` operator, or the logical_xor function instead.\n",
      "  output_errors = np.average((y_true - y_pred) ** 2, axis=0,\n",
      "/usr/local/lib/python2.7/dist-packages/sklearn/metrics/regression.py:463: DeprecationWarning: numpy boolean subtract, the `-` operator, is deprecated, use the bitwise_xor, the `^` operator, or the logical_xor function instead.\n",
      "  numerator = (weight * (y_true - y_pred) ** 2).sum(axis=0,\n",
      "/usr/local/lib/python2.7/dist-packages/sklearn/metrics/regression.py:463: DeprecationWarning: numpy boolean subtract, the `-` operator, is deprecated, use the bitwise_xor, the `^` operator, or the logical_xor function instead.\n",
      "  numerator = (weight * (y_true - y_pred) ** 2).sum(axis=0,\n",
      "/usr/local/lib/python2.7/dist-packages/sklearn/metrics/regression.py:463: DeprecationWarning: numpy boolean subtract, the `-` operator, is deprecated, use the bitwise_xor, the `^` operator, or the logical_xor function instead.\n",
      "  numerator = (weight * (y_true - y_pred) ** 2).sum(axis=0,\n",
      "/usr/local/lib/python2.7/dist-packages/sklearn/metrics/regression.py:463: DeprecationWarning: numpy boolean subtract, the `-` operator, is deprecated, use the bitwise_xor, the `^` operator, or the logical_xor function instead.\n",
      "  numerator = (weight * (y_true - y_pred) ** 2).sum(axis=0,\n",
      "/usr/local/lib/python2.7/dist-packages/sklearn/metrics/regression.py:463: DeprecationWarning: numpy boolean subtract, the `-` operator, is deprecated, use the bitwise_xor, the `^` operator, or the logical_xor function instead.\n",
      "  numerator = (weight * (y_true - y_pred) ** 2).sum(axis=0,\n",
      "/usr/local/lib/python2.7/dist-packages/sklearn/metrics/regression.py:463: DeprecationWarning: numpy boolean subtract, the `-` operator, is deprecated, use the bitwise_xor, the `^` operator, or the logical_xor function instead.\n",
      "  numerator = (weight * (y_true - y_pred) ** 2).sum(axis=0,\n",
      "/usr/local/lib/python2.7/dist-packages/sklearn/metrics/regression.py:463: DeprecationWarning: numpy boolean subtract, the `-` operator, is deprecated, use the bitwise_xor, the `^` operator, or the logical_xor function instead.\n",
      "  numerator = (weight * (y_true - y_pred) ** 2).sum(axis=0,\n",
      "/usr/local/lib/python2.7/dist-packages/sklearn/metrics/regression.py:463: DeprecationWarning: numpy boolean subtract, the `-` operator, is deprecated, use the bitwise_xor, the `^` operator, or the logical_xor function instead.\n",
      "  numerator = (weight * (y_true - y_pred) ** 2).sum(axis=0,\n",
      "/usr/local/lib/python2.7/dist-packages/sklearn/metrics/regression.py:463: DeprecationWarning: numpy boolean subtract, the `-` operator, is deprecated, use the bitwise_xor, the `^` operator, or the logical_xor function instead.\n",
      "  numerator = (weight * (y_true - y_pred) ** 2).sum(axis=0,\n",
      "/usr/local/lib/python2.7/dist-packages/sklearn/metrics/regression.py:463: DeprecationWarning: numpy boolean subtract, the `-` operator, is deprecated, use the bitwise_xor, the `^` operator, or the logical_xor function instead.\n",
      "  numerator = (weight * (y_true - y_pred) ** 2).sum(axis=0,\n"
     ]
    },
    {
     "name": "stdout",
     "output_type": "stream",
     "text": [
      "=================================================\n",
      "RandomForestClassifier    Test CV | MSE: 0.383 | R2: -0.563\n",
      "=================================================\n"
     ]
    },
    {
     "name": "stderr",
     "output_type": "stream",
     "text": [
      "/usr/local/lib/python2.7/dist-packages/sklearn/metrics/regression.py:232: DeprecationWarning: numpy boolean subtract, the `-` operator, is deprecated, use the bitwise_xor, the `^` operator, or the logical_xor function instead.\n",
      "  output_errors = np.average((y_true - y_pred) ** 2, axis=0,\n",
      "/usr/local/lib/python2.7/dist-packages/sklearn/metrics/regression.py:232: DeprecationWarning: numpy boolean subtract, the `-` operator, is deprecated, use the bitwise_xor, the `^` operator, or the logical_xor function instead.\n",
      "  output_errors = np.average((y_true - y_pred) ** 2, axis=0,\n",
      "/usr/local/lib/python2.7/dist-packages/sklearn/metrics/regression.py:232: DeprecationWarning: numpy boolean subtract, the `-` operator, is deprecated, use the bitwise_xor, the `^` operator, or the logical_xor function instead.\n",
      "  output_errors = np.average((y_true - y_pred) ** 2, axis=0,\n",
      "/usr/local/lib/python2.7/dist-packages/sklearn/metrics/regression.py:232: DeprecationWarning: numpy boolean subtract, the `-` operator, is deprecated, use the bitwise_xor, the `^` operator, or the logical_xor function instead.\n",
      "  output_errors = np.average((y_true - y_pred) ** 2, axis=0,\n",
      "/usr/local/lib/python2.7/dist-packages/sklearn/metrics/regression.py:232: DeprecationWarning: numpy boolean subtract, the `-` operator, is deprecated, use the bitwise_xor, the `^` operator, or the logical_xor function instead.\n",
      "  output_errors = np.average((y_true - y_pred) ** 2, axis=0,\n",
      "/usr/local/lib/python2.7/dist-packages/sklearn/metrics/regression.py:232: DeprecationWarning: numpy boolean subtract, the `-` operator, is deprecated, use the bitwise_xor, the `^` operator, or the logical_xor function instead.\n",
      "  output_errors = np.average((y_true - y_pred) ** 2, axis=0,\n",
      "/usr/local/lib/python2.7/dist-packages/sklearn/metrics/regression.py:232: DeprecationWarning: numpy boolean subtract, the `-` operator, is deprecated, use the bitwise_xor, the `^` operator, or the logical_xor function instead.\n",
      "  output_errors = np.average((y_true - y_pred) ** 2, axis=0,\n",
      "/usr/local/lib/python2.7/dist-packages/sklearn/metrics/regression.py:232: DeprecationWarning: numpy boolean subtract, the `-` operator, is deprecated, use the bitwise_xor, the `^` operator, or the logical_xor function instead.\n",
      "  output_errors = np.average((y_true - y_pred) ** 2, axis=0,\n",
      "/usr/local/lib/python2.7/dist-packages/sklearn/metrics/regression.py:232: DeprecationWarning: numpy boolean subtract, the `-` operator, is deprecated, use the bitwise_xor, the `^` operator, or the logical_xor function instead.\n",
      "  output_errors = np.average((y_true - y_pred) ** 2, axis=0,\n",
      "/usr/local/lib/python2.7/dist-packages/sklearn/metrics/regression.py:232: DeprecationWarning: numpy boolean subtract, the `-` operator, is deprecated, use the bitwise_xor, the `^` operator, or the logical_xor function instead.\n",
      "  output_errors = np.average((y_true - y_pred) ** 2, axis=0,\n",
      "/usr/local/lib/python2.7/dist-packages/sklearn/metrics/regression.py:463: DeprecationWarning: numpy boolean subtract, the `-` operator, is deprecated, use the bitwise_xor, the `^` operator, or the logical_xor function instead.\n",
      "  numerator = (weight * (y_true - y_pred) ** 2).sum(axis=0,\n",
      "/usr/local/lib/python2.7/dist-packages/sklearn/metrics/regression.py:463: DeprecationWarning: numpy boolean subtract, the `-` operator, is deprecated, use the bitwise_xor, the `^` operator, or the logical_xor function instead.\n",
      "  numerator = (weight * (y_true - y_pred) ** 2).sum(axis=0,\n",
      "/usr/local/lib/python2.7/dist-packages/sklearn/metrics/regression.py:463: DeprecationWarning: numpy boolean subtract, the `-` operator, is deprecated, use the bitwise_xor, the `^` operator, or the logical_xor function instead.\n",
      "  numerator = (weight * (y_true - y_pred) ** 2).sum(axis=0,\n",
      "/usr/local/lib/python2.7/dist-packages/sklearn/metrics/regression.py:463: DeprecationWarning: numpy boolean subtract, the `-` operator, is deprecated, use the bitwise_xor, the `^` operator, or the logical_xor function instead.\n",
      "  numerator = (weight * (y_true - y_pred) ** 2).sum(axis=0,\n",
      "/usr/local/lib/python2.7/dist-packages/sklearn/metrics/regression.py:463: DeprecationWarning: numpy boolean subtract, the `-` operator, is deprecated, use the bitwise_xor, the `^` operator, or the logical_xor function instead.\n",
      "  numerator = (weight * (y_true - y_pred) ** 2).sum(axis=0,\n",
      "/usr/local/lib/python2.7/dist-packages/sklearn/metrics/regression.py:463: DeprecationWarning: numpy boolean subtract, the `-` operator, is deprecated, use the bitwise_xor, the `^` operator, or the logical_xor function instead.\n",
      "  numerator = (weight * (y_true - y_pred) ** 2).sum(axis=0,\n",
      "/usr/local/lib/python2.7/dist-packages/sklearn/metrics/regression.py:463: DeprecationWarning: numpy boolean subtract, the `-` operator, is deprecated, use the bitwise_xor, the `^` operator, or the logical_xor function instead.\n",
      "  numerator = (weight * (y_true - y_pred) ** 2).sum(axis=0,\n",
      "/usr/local/lib/python2.7/dist-packages/sklearn/metrics/regression.py:463: DeprecationWarning: numpy boolean subtract, the `-` operator, is deprecated, use the bitwise_xor, the `^` operator, or the logical_xor function instead.\n",
      "  numerator = (weight * (y_true - y_pred) ** 2).sum(axis=0,\n",
      "/usr/local/lib/python2.7/dist-packages/sklearn/metrics/regression.py:463: DeprecationWarning: numpy boolean subtract, the `-` operator, is deprecated, use the bitwise_xor, the `^` operator, or the logical_xor function instead.\n",
      "  numerator = (weight * (y_true - y_pred) ** 2).sum(axis=0,\n",
      "/usr/local/lib/python2.7/dist-packages/sklearn/metrics/regression.py:463: DeprecationWarning: numpy boolean subtract, the `-` operator, is deprecated, use the bitwise_xor, the `^` operator, or the logical_xor function instead.\n",
      "  numerator = (weight * (y_true - y_pred) ** 2).sum(axis=0,\n"
     ]
    },
    {
     "name": "stdout",
     "output_type": "stream",
     "text": [
      "=================================================\n",
      "GradientBoostingClassifier Test CV | MSE: 0.369 | R2: -0.503\n",
      "=================================================\n"
     ]
    },
    {
     "data": {
      "text/plain": [
       "array([[ 0.69413634,  0.30586366],\n",
       "       [ 0.32036584,  0.67963416],\n",
       "       [ 0.68146786,  0.31853214],\n",
       "       ..., \n",
       "       [ 0.68143629,  0.31856371],\n",
       "       [ 0.54502997,  0.45497003],\n",
       "       [ 0.64913028,  0.35086972]])"
      ]
     },
     "execution_count": 578,
     "metadata": {},
     "output_type": "execute_result"
    }
   ],
   "source": [
    "def load_and_split_data():\n",
    "\n",
    "    gbdata = pd.read_csv('./data/alldata.csv', delimiter='\\t')\n",
    "    nlp_model = TfidfVectorizer(stop_words=\"english\")\n",
    "\n",
    "    le = preprocessing.LabelEncoder()\n",
    "    X = gbdata.apply(LabelEncoder().fit_transform)\n",
    "    X = X.drop(['Classifier_x'], axis=1)\n",
    "    X = X.drop(['Link_x'], axis=1)\n",
    "    X = X.drop(['Link_y'], axis=1)\n",
    "    X = X.drop(['Labels_x'], axis=1)\n",
    "    X = X.drop(['Labels_y'], axis=1)\n",
    "    X = X.drop(['Train_x'], axis=1)\n",
    "    X = X.drop(['Next_y'], axis=1)\n",
    "    X = X.drop(['Compound'], axis=1)\n",
    "    X = X.drop(['Train_y'], axis=1)\n",
    "\n",
    "\n",
    "    print '========================================='\n",
    "\n",
    "\n",
    "\n",
    "\n",
    "    y = gbdata['Classifier_x'].values.reshape(len(gbdata['Classifier_x'], ))\n",
    "\n",
    "    #column_names = ['Ticker', 'Link_x', 'Labels_x', 'Train_x', 'Classifier_x', 'Current_x', 'Next_x', 'Link_y', 'Labels_y', 'Train_y', 'Classifier_y', 'Current_y', 'Next_y', 'Compound', 'Neg', 'Neu', 'Pos', 'Wordcount']\n",
    "    #print column_names\n",
    "    X_train, X_test, y_train, y_test = train_test_split(X, y, \n",
    "                                       test_size = 0.2, \n",
    "                                       random_state = 5)\n",
    "    return (X_train, X_test, y_train, y_test)\n",
    "\n",
    "def cross_val(estimator, X_test, y_test, nfolds):\n",
    "\n",
    "    mse = cross_val_score(estimator, X_test, y_test, \n",
    "                          scoring='neg_mean_squared_error',\n",
    "                          cv=nfolds, n_jobs=-1) * -1\n",
    "    # mse multiplied by -1 to make positive\n",
    "    r2 = cross_val_score(estimator, X_test, y_test, \n",
    "                         scoring='r2', cv=nfolds, n_jobs=-1)\n",
    "    \n",
    "    mean_mse = mse.mean()\n",
    "    mean_r2 = r2.mean()\n",
    "    name = estimator.__class__.__name__\n",
    "    print '================================================='\n",
    "    print \"{0:<25s} Test CV | MSE: {1:0.3f} | R2: {2:0.3f}\".format(name,\n",
    "                                                        mean_mse, mean_r2)\n",
    "    print '================================================='\n",
    "\n",
    "\n",
    "    return mean_mse, mean_r2\n",
    "\n",
    "\n",
    "\n",
    "\n",
    "\n",
    "# 2) load and train-test-split data \n",
    "(X_train, X_test, y_train, y_test) = load_and_split_data()\n",
    "\n",
    "# 3) define models then compare the mse and r2 \n",
    "# instantiate models, note random forest can be parallelized (n_jobs = -1)\n",
    "rf = RandomForestClassifier(n_estimators=100, random_state=5)\n",
    "\n",
    "gdbc = GradientBoostingClassifier(learning_rate=0.1,\n",
    "                                 n_estimators=100, random_state=5)\n",
    "\n",
    "\n",
    "\n",
    "# 4) perform the cross-validation and print results\n",
    "k = 10 # number of folds in the cross-validation \n",
    "#print \"\\nScript output.\"\n",
    "#print \"Using {0} folds in cross validation.\".format(k)\n",
    "#print \"\\n4) Train MSE and R2 for the 3 models\"\n",
    "#cross_val(rf, X_train, y_train, k) \n",
    "#cross_val(gdbc, X_train, y_train, k)\n",
    "cross_val(rf, X_train, y_train, k) \n",
    "cross_val(gdbc, X_train, y_train, k)\n",
    "cross_val_predict(gdbc, X_train, y_train, method='predict_proba')"
   ]
  },
  {
   "cell_type": "code",
   "execution_count": 579,
   "metadata": {},
   "outputs": [],
   "source": [
    "gbprobs = cross_val_predict(gdbc, X_test, y_test, method='predict_proba')"
   ]
  },
  {
   "cell_type": "code",
   "execution_count": 580,
   "metadata": {},
   "outputs": [],
   "source": [
    "nbprobs = y_predictprob_bnb\n",
    "lrprobs = y_predictprob_lr"
   ]
  },
  {
   "cell_type": "code",
   "execution_count": 581,
   "metadata": {},
   "outputs": [],
   "source": [
    "ensemble2 = np.mean( np.array([ gbprobs, lrprobs ]), axis=0 )"
   ]
  },
  {
   "cell_type": "code",
   "execution_count": 582,
   "metadata": {},
   "outputs": [
    {
     "name": "stdout",
     "output_type": "stream",
     "text": [
      "[[ 0.44027118  0.55972882]\n",
      " [ 0.55841421  0.44158579]\n",
      " [ 0.47393344  0.52606656]\n",
      " ..., \n",
      " [ 0.48635123  0.51364877]\n",
      " [ 0.52506356  0.47493644]\n",
      " [ 0.74128564  0.25871436]]\n"
     ]
    }
   ],
   "source": [
    "print ensemble2"
   ]
  },
  {
   "cell_type": "code",
   "execution_count": null,
   "metadata": {},
   "outputs": [],
   "source": []
  },
  {
   "cell_type": "code",
   "execution_count": null,
   "metadata": {},
   "outputs": [],
   "source": []
  },
  {
   "cell_type": "code",
   "execution_count": 583,
   "metadata": {},
   "outputs": [],
   "source": [
    "converted = np.array(map(lambda x: x[1] > 0.5, ensemble2))"
   ]
  },
  {
   "cell_type": "code",
   "execution_count": 584,
   "metadata": {},
   "outputs": [
    {
     "data": {
      "text/plain": [
       "array([ True, False,  True, ...,  True, False, False], dtype=bool)"
      ]
     },
     "execution_count": 584,
     "metadata": {},
     "output_type": "execute_result"
    }
   ],
   "source": [
    "converted"
   ]
  },
  {
   "cell_type": "code",
   "execution_count": 585,
   "metadata": {},
   "outputs": [
    {
     "data": {
      "text/plain": [
       "array([ True,  True, False, ...,  True,  True,  True], dtype=bool)"
      ]
     },
     "execution_count": 585,
     "metadata": {},
     "output_type": "execute_result"
    }
   ],
   "source": [
    "y_test"
   ]
  },
  {
   "cell_type": "code",
   "execution_count": 586,
   "metadata": {},
   "outputs": [
    {
     "data": {
      "text/plain": [
       "(1064,)"
      ]
     },
     "execution_count": 586,
     "metadata": {},
     "output_type": "execute_result"
    }
   ],
   "source": [
    "converted.shape"
   ]
  },
  {
   "cell_type": "code",
   "execution_count": 572,
   "metadata": {},
   "outputs": [
    {
     "data": {
      "text/plain": [
       "(1064,)"
      ]
     },
     "execution_count": 572,
     "metadata": {},
     "output_type": "execute_result"
    }
   ],
   "source": [
    "y_test.shape"
   ]
  },
  {
   "cell_type": "code",
   "execution_count": 587,
   "metadata": {},
   "outputs": [
    {
     "data": {
      "text/plain": [
       "0.64567669172932329"
      ]
     },
     "execution_count": 587,
     "metadata": {},
     "output_type": "execute_result"
    }
   ],
   "source": [
    "np.mean(converted == y_test)\n"
   ]
  },
  {
   "cell_type": "code",
   "execution_count": 588,
   "metadata": {},
   "outputs": [],
   "source": [
    "import collections"
   ]
  },
  {
   "cell_type": "code",
   "execution_count": 589,
   "metadata": {},
   "outputs": [
    {
     "data": {
      "text/plain": [
       "Counter({False: 377, True: 687})"
      ]
     },
     "execution_count": 589,
     "metadata": {},
     "output_type": "execute_result"
    }
   ],
   "source": [
    "collections.Counter(converted == y_test)"
   ]
  },
  {
   "cell_type": "code",
   "execution_count": null,
   "metadata": {
    "collapsed": true
   },
   "outputs": [],
   "source": []
  },
  {
   "cell_type": "code",
   "execution_count": null,
   "metadata": {
    "collapsed": true
   },
   "outputs": [],
   "source": []
  }
 ],
 "metadata": {
  "kernelspec": {
   "display_name": "Python 2",
   "language": "python",
   "name": "python2"
  },
  "language_info": {
   "codemirror_mode": {
    "name": "ipython",
    "version": 2
   },
   "file_extension": ".py",
   "mimetype": "text/x-python",
   "name": "python",
   "nbconvert_exporter": "python",
   "pygments_lexer": "ipython2",
   "version": "2.7.12"
  }
 },
 "nbformat": 4,
 "nbformat_minor": 2
}
